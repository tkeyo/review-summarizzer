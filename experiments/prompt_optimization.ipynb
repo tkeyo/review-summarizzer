{
 "cells": [
  {
   "cell_type": "markdown",
   "metadata": {
    "vscode": {
     "languageId": "plaintext"
    }
   },
   "source": [
    "# Review Summarization Prompt Optimization with DSPy (SIMBA/MIPROv2)\n",
    "\n",
    "This script demonstrates how to optimize prompts in a DSPy program for summarizing user reviews.\n",
    "\n",
    "## References:\n",
    "- https://dspy.ai/learn/optimization/optimizers/#__tabbed_1_3\n",
    "- https://dspy.ai/tutorials/classification_finetuning/\n",
    "- https://dspy.ai/tutorials/math/"
   ]
  },
  {
   "cell_type": "code",
   "execution_count": 1,
   "metadata": {},
   "outputs": [],
   "source": [
    "# 1. Setup\n",
    "# Import required libraries and configure the language model.\n",
    "import dspy\n",
    "from typing import List, Dict\n",
    "from app.llm.review_summarizer import SummarizeSignature, ReviewSummarizer\n",
    "import os\n",
    "\n",
    "# Configure the language model (replace with your preferred model)\n",
    "# dspy.configure(lm=dspy.LM('gpt-4.1-nano'))"
   ]
  },
  {
   "cell_type": "code",
   "execution_count": 2,
   "metadata": {},
   "outputs": [],
   "source": [
    "# 3. Prepare Training Data\n",
    "# Each example is a list of reviews and a reference summary.\n",
    "trainset = [\n",
    "    dspy.Example(\n",
    "        reviews=[\n",
    "            \"Room was clean and spacious.\",\n",
    "            \"Excellent location, but noisy at night.\",\n",
    "            \"Staff was helpful and check-in was quick.\"\n",
    "        ],\n",
    "        # summary=\"The hotel has clean, spacious rooms and helpful staff, but can be noisy at night due to its location.\",\n",
    "        reference=\"Users like the cleanliness of the hotel. The adjecent streets are noisy.\"\n",
    "    ).with_inputs(\"reviews\"),\n",
    "    dspy.Example(\n",
    "        reviews=[\n",
    "            \"Battery life is impressive.\",\n",
    "            \"Screen quality is not as good as expected.\",\n",
    "            \"Affordable price for the features offered.\"\n",
    "        ],\n",
    "        # summary=\"The product offers great battery life and features for its price, but the screen quality could be better.\",\n",
    "        reference=\"Users like that the product offers greaat battery life. The screen quality could be better though.\"\n",
    "    ).with_inputs(\"reviews\"),\n",
    "]"
   ]
  },
  {
   "cell_type": "code",
   "execution_count": 3,
   "metadata": {},
   "outputs": [],
   "source": [
    "from typing import Literal\n",
    "\n",
    "# 4. Define LLM as Judge Metric\n",
    "class JudgeSignature(dspy.Signature):\n",
    "    \"\"\"Judge if the summary is a good, faithful, and persuasive summary of the reviews.\"\"\"\n",
    "    reviews = dspy.InputField()\n",
    "    reference = dspy.InputField()\n",
    "    score: Literal[0,1] = dspy.OutputField(desc=\"1 if the summary is a good, faithful, and persuasive summary of the reviews, 0 otherwise.\")\n",
    "\n",
    "llm_judge = dspy.ChainOfThought(JudgeSignature)\n",
    "\n",
    "\n",
    "def llm_judge_metric(example, prediction, trace=None):\n",
    "    return prediction.summary == example.reference\n",
    "\n",
    "def llm_judge_metric(example, prediction, trace=None):\n",
    "    result = llm_judge(\n",
    "        reviews=\"\\n\".join(example.reviews),\n",
    "        reference=example.reference\n",
    "    )\n",
    "    return float(result.score)"
   ]
  },
  {
   "cell_type": "code",
   "execution_count": 4,
   "metadata": {},
   "outputs": [
    {
     "name": "stderr",
     "output_type": "stream",
     "text": [
      "2025/05/25 18:18:50 INFO dspy.teleprompt.mipro_optimizer_v2: \n",
      "RUNNING WITH THE FOLLOWING LIGHT AUTO RUN SETTINGS:\n",
      "num_trials: 10\n",
      "minibatch: False\n",
      "num_fewshot_candidates: 6\n",
      "num_instruct_candidates: 3\n",
      "valset size: 1\n",
      "\n",
      "2025/05/25 18:18:50 INFO dspy.teleprompt.mipro_optimizer_v2: \n",
      "==> STEP 1: BOOTSTRAP FEWSHOT EXAMPLES <==\n",
      "2025/05/25 18:18:50 INFO dspy.teleprompt.mipro_optimizer_v2: These will be used as few-shot example candidates for our program and for creating instructions.\n",
      "\n",
      "2025/05/25 18:18:50 INFO dspy.teleprompt.mipro_optimizer_v2: Bootstrapping N=6 sets of demonstrations...\n"
     ]
    },
    {
     "name": "stdout",
     "output_type": "stream",
     "text": [
      "Bootstrapping set 1/6\n",
      "Bootstrapping set 2/6\n",
      "Bootstrapping set 3/6\n"
     ]
    },
    {
     "name": "stderr",
     "output_type": "stream",
     "text": [
      "  0%|          | 0/1 [00:00<?, ?it/s]2025/05/25 18:18:50 WARNING dspy.adapters.json_adapter: Failed to use structured output format, falling back to JSON mode.\n",
      "100%|██████████| 1/1 [00:02<00:00,  2.18s/it]\n"
     ]
    },
    {
     "name": "stdout",
     "output_type": "stream",
     "text": [
      "Bootstrapped 1 full traces after 0 examples for up to 1 rounds, amounting to 1 attempts.\n",
      "Bootstrapping set 4/6\n"
     ]
    },
    {
     "name": "stderr",
     "output_type": "stream",
     "text": [
      "  0%|          | 0/1 [00:00<?, ?it/s]2025/05/25 18:18:52 WARNING dspy.adapters.json_adapter: Failed to use structured output format, falling back to JSON mode.\n",
      "100%|██████████| 1/1 [00:00<00:00, 401.14it/s]\n"
     ]
    },
    {
     "name": "stdout",
     "output_type": "stream",
     "text": [
      "Bootstrapped 1 full traces after 0 examples for up to 1 rounds, amounting to 1 attempts.\n",
      "Bootstrapping set 5/6\n"
     ]
    },
    {
     "name": "stderr",
     "output_type": "stream",
     "text": [
      "  0%|          | 0/1 [00:00<?, ?it/s]2025/05/25 18:18:52 WARNING dspy.adapters.json_adapter: Failed to use structured output format, falling back to JSON mode.\n",
      "100%|██████████| 1/1 [00:00<00:00, 540.57it/s]\n"
     ]
    },
    {
     "name": "stdout",
     "output_type": "stream",
     "text": [
      "Bootstrapped 1 full traces after 0 examples for up to 1 rounds, amounting to 1 attempts.\n",
      "Bootstrapping set 6/6\n"
     ]
    },
    {
     "name": "stderr",
     "output_type": "stream",
     "text": [
      "  0%|          | 0/1 [00:00<?, ?it/s]2025/05/25 18:18:52 WARNING dspy.adapters.json_adapter: Failed to use structured output format, falling back to JSON mode.\n",
      "100%|██████████| 1/1 [00:00<00:00, 398.55it/s]\n",
      "2025/05/25 18:18:52 INFO dspy.teleprompt.mipro_optimizer_v2: \n",
      "==> STEP 2: PROPOSE INSTRUCTION CANDIDATES <==\n",
      "2025/05/25 18:18:52 INFO dspy.teleprompt.mipro_optimizer_v2: We will use the few-shot examples from the previous step, a generated dataset summary, a summary of the program code, and a randomly selected prompting tip to propose instructions.\n"
     ]
    },
    {
     "name": "stdout",
     "output_type": "stream",
     "text": [
      "Bootstrapped 1 full traces after 0 examples for up to 1 rounds, amounting to 1 attempts.\n",
      "class SummarizeSignature(dspy.Signature):\n",
      "    \"\"\"Summarize the provided user reviews to maximize purchase intent.\n",
      "    # Role\n",
      "    You are an expert review summarizer. You know what makes people tick and buy when they read a review summary.\n",
      "    # Instructions\n",
      "    - Summarize the provided reviews\n",
      "    - Adjust the format so that people are more likely to purchase\n",
      "    \"\"\"\n",
      "    reviews = dspy.InputField(desc=\"All user reviews as a markdown list.\")\n",
      "    summary = dspy.OutputField(desc=\"A persuasive summary of the reviews.\")\n",
      "\n"
     ]
    },
    {
     "name": "stderr",
     "output_type": "stream",
     "text": [
      "2025/05/25 18:18:55 INFO dspy.teleprompt.mipro_optimizer_v2: \n",
      "Proposing N=3 instructions...\n",
      "\n",
      "2025/05/25 18:19:10 INFO dspy.teleprompt.mipro_optimizer_v2: Proposed Instructions for Predictor 0:\n",
      "\n",
      "2025/05/25 18:19:10 INFO dspy.teleprompt.mipro_optimizer_v2: 0: Summarize the provided user reviews to maximize purchase intent.\n",
      "# Role\n",
      "You are an expert review summarizer. You know what makes people tick and buy when they read a review summary.\n",
      "# Instructions\n",
      "- Summarize the provided reviews\n",
      "- Adjust the format so that people are more likely to purchase\n",
      "\n",
      "2025/05/25 18:19:10 INFO dspy.teleprompt.mipro_optimizer_v2: 1: You are an expert review summarizer tasked with creating persuasive summaries of user reviews to boost purchase intent. Given a list of reviews formatted as a markdown list, generate a concise, compelling summary that highlights positive features and addresses potential concerns in a way that encourages potential customers to make a purchase or engage with the product or service. Focus on emphasizing key benefits, reassuring about common concerns, and framing the overall experience positively to maximize the likelihood of conversion. Respond with the output fields accordingly, starting with the instruction and role clarification, and ensuring the summary is tailored to persuade prospective buyers.\n",
      "\n",
      "2025/05/25 18:19:10 INFO dspy.teleprompt.mipro_optimizer_v2: 2: Create a detailed and persuasive summary of the provided hotel reviews that highlights the positive features such as cleanliness, helpful staff, and convenient location, while also addressing common concerns like noise disturbances at night. The summary should be formatted in a way that appeals to potential customers, emphasizing the benefits and making the hotel an attractive choice. Your goal is to craft a concise, compelling narrative that encourages booking by focusing on the key amenities and experiences mentioned in the reviews. Ensure the tone is friendly, trustworthy, and tailored to maximize purchase intent by clearly presenting the hotel’s strengths and transparently mentioning minor issues like noise, so customers feel informed but confident in their decision.\n",
      "\n",
      "2025/05/25 18:19:10 INFO dspy.teleprompt.mipro_optimizer_v2: \n",
      "\n",
      "2025/05/25 18:19:10 INFO dspy.teleprompt.mipro_optimizer_v2: ==> STEP 3: FINDING OPTIMAL PROMPT PARAMETERS <==\n",
      "2025/05/25 18:19:10 INFO dspy.teleprompt.mipro_optimizer_v2: We will evaluate the program over a series of trials with different combinations of instructions and few-shot examples to find the optimal combination using Bayesian Optimization.\n",
      "\n",
      "2025/05/25 18:19:10 INFO dspy.teleprompt.mipro_optimizer_v2: == Trial 1 / 10 - Full Evaluation of Default Program ==\n"
     ]
    },
    {
     "name": "stdout",
     "output_type": "stream",
     "text": [
      "  0%|          | 0/1 [00:00<?, ?it/s]"
     ]
    },
    {
     "name": "stderr",
     "output_type": "stream",
     "text": [
      "2025/05/25 18:19:13 WARNING dspy.adapters.json_adapter: Failed to use structured output format, falling back to JSON mode.\n"
     ]
    },
    {
     "name": "stdout",
     "output_type": "stream",
     "text": [
      "Average Metric: 1.00 / 1 (100.0%): 100%|██████████| 1/1 [00:04<00:00,  4.19s/it]"
     ]
    },
    {
     "name": "stderr",
     "output_type": "stream",
     "text": [
      "2025/05/25 18:19:14 INFO dspy.evaluate.evaluate: Average Metric: 1.0 / 1 (100.0%)\n",
      "2025/05/25 18:19:14 INFO dspy.teleprompt.mipro_optimizer_v2: Default program score: 100.0\n",
      "\n",
      "/Users/tk/projects/review-summarizzer/.venv/lib/python3.11/site-packages/optuna/_experimental.py:31: ExperimentalWarning: Argument ``multivariate`` is an experimental feature. The interface can change in the future.\n",
      "  warnings.warn(\n",
      "2025/05/25 18:19:14 INFO dspy.teleprompt.mipro_optimizer_v2: ===== Trial 2 / 10 =====\n"
     ]
    },
    {
     "name": "stdout",
     "output_type": "stream",
     "text": [
      "\n",
      "  0%|          | 0/1 [00:00<?, ?it/s]"
     ]
    },
    {
     "name": "stderr",
     "output_type": "stream",
     "text": [
      "2025/05/25 18:19:16 WARNING dspy.adapters.json_adapter: Failed to use structured output format, falling back to JSON mode.\n"
     ]
    },
    {
     "name": "stdout",
     "output_type": "stream",
     "text": [
      "Average Metric: 1.00 / 1 (100.0%): 100%|██████████| 1/1 [00:01<00:00,  1.16s/it]"
     ]
    },
    {
     "name": "stderr",
     "output_type": "stream",
     "text": [
      "2025/05/25 18:19:16 INFO dspy.evaluate.evaluate: Average Metric: 1.0 / 1 (100.0%)\n",
      "2025/05/25 18:19:16 INFO dspy.teleprompt.mipro_optimizer_v2: Score: 100.0 with parameters ['Predictor 0: Instruction 1', 'Predictor 0: Few-Shot Set 3'].\n",
      "2025/05/25 18:19:16 INFO dspy.teleprompt.mipro_optimizer_v2: Scores so far: [100.0, 100.0]\n",
      "2025/05/25 18:19:16 INFO dspy.teleprompt.mipro_optimizer_v2: Best score so far: 100.0\n",
      "2025/05/25 18:19:16 INFO dspy.teleprompt.mipro_optimizer_v2: ========================\n",
      "\n",
      "\n",
      "2025/05/25 18:19:16 INFO dspy.teleprompt.mipro_optimizer_v2: ===== Trial 3 / 10 =====\n"
     ]
    },
    {
     "name": "stdout",
     "output_type": "stream",
     "text": [
      "\n",
      "  0%|          | 0/1 [00:00<?, ?it/s]"
     ]
    },
    {
     "name": "stderr",
     "output_type": "stream",
     "text": [
      "2025/05/25 18:19:18 WARNING dspy.adapters.json_adapter: Failed to use structured output format, falling back to JSON mode.\n"
     ]
    },
    {
     "name": "stdout",
     "output_type": "stream",
     "text": [
      "Average Metric: 1.00 / 1 (100.0%): 100%|██████████| 1/1 [00:02<00:00,  2.11s/it]"
     ]
    },
    {
     "name": "stderr",
     "output_type": "stream",
     "text": [
      "2025/05/25 18:19:18 INFO dspy.evaluate.evaluate: Average Metric: 1.0 / 1 (100.0%)\n",
      "2025/05/25 18:19:18 INFO dspy.teleprompt.mipro_optimizer_v2: Score: 100.0 with parameters ['Predictor 0: Instruction 2', 'Predictor 0: Few-Shot Set 0'].\n",
      "2025/05/25 18:19:18 INFO dspy.teleprompt.mipro_optimizer_v2: Scores so far: [100.0, 100.0, 100.0]\n",
      "2025/05/25 18:19:18 INFO dspy.teleprompt.mipro_optimizer_v2: Best score so far: 100.0\n",
      "2025/05/25 18:19:18 INFO dspy.teleprompt.mipro_optimizer_v2: ========================\n",
      "\n",
      "\n",
      "2025/05/25 18:19:18 INFO dspy.teleprompt.mipro_optimizer_v2: ===== Trial 4 / 10 =====\n"
     ]
    },
    {
     "name": "stdout",
     "output_type": "stream",
     "text": [
      "\n"
     ]
    },
    {
     "name": "stderr",
     "output_type": "stream",
     "text": [
      "2025/05/25 18:19:18 WARNING dspy.adapters.json_adapter: Failed to use structured output format, falling back to JSON mode.\n"
     ]
    },
    {
     "name": "stdout",
     "output_type": "stream",
     "text": [
      "Average Metric: 1.00 / 1 (100.0%): 100%|██████████| 1/1 [00:00<00:00, 541.41it/s]"
     ]
    },
    {
     "name": "stderr",
     "output_type": "stream",
     "text": [
      "2025/05/25 18:19:18 INFO dspy.evaluate.evaluate: Average Metric: 1.0 / 1 (100.0%)\n",
      "2025/05/25 18:19:18 INFO dspy.teleprompt.mipro_optimizer_v2: Score: 100.0 with parameters ['Predictor 0: Instruction 1', 'Predictor 0: Few-Shot Set 5'].\n",
      "2025/05/25 18:19:18 INFO dspy.teleprompt.mipro_optimizer_v2: Scores so far: [100.0, 100.0, 100.0, 100.0]\n",
      "2025/05/25 18:19:18 INFO dspy.teleprompt.mipro_optimizer_v2: Best score so far: 100.0\n",
      "2025/05/25 18:19:18 INFO dspy.teleprompt.mipro_optimizer_v2: ========================\n",
      "\n",
      "\n",
      "2025/05/25 18:19:18 INFO dspy.teleprompt.mipro_optimizer_v2: ===== Trial 5 / 10 =====\n"
     ]
    },
    {
     "name": "stdout",
     "output_type": "stream",
     "text": [
      "\n",
      "  0%|          | 0/1 [00:00<?, ?it/s]"
     ]
    },
    {
     "name": "stderr",
     "output_type": "stream",
     "text": [
      "2025/05/25 18:19:19 WARNING dspy.adapters.json_adapter: Failed to use structured output format, falling back to JSON mode.\n"
     ]
    },
    {
     "name": "stdout",
     "output_type": "stream",
     "text": [
      "Average Metric: 1.00 / 1 (100.0%): 100%|██████████| 1/1 [00:01<00:00,  1.30s/it]"
     ]
    },
    {
     "name": "stderr",
     "output_type": "stream",
     "text": [
      "2025/05/25 18:19:19 INFO dspy.evaluate.evaluate: Average Metric: 1.0 / 1 (100.0%)\n",
      "2025/05/25 18:19:19 INFO dspy.teleprompt.mipro_optimizer_v2: Score: 100.0 with parameters ['Predictor 0: Instruction 2', 'Predictor 0: Few-Shot Set 2'].\n",
      "2025/05/25 18:19:19 INFO dspy.teleprompt.mipro_optimizer_v2: Scores so far: [100.0, 100.0, 100.0, 100.0, 100.0]\n",
      "2025/05/25 18:19:19 INFO dspy.teleprompt.mipro_optimizer_v2: Best score so far: 100.0\n",
      "2025/05/25 18:19:19 INFO dspy.teleprompt.mipro_optimizer_v2: ========================\n",
      "\n",
      "\n",
      "2025/05/25 18:19:19 INFO dspy.teleprompt.mipro_optimizer_v2: ===== Trial 6 / 10 =====\n"
     ]
    },
    {
     "name": "stdout",
     "output_type": "stream",
     "text": [
      "\n",
      "  0%|          | 0/1 [00:00<?, ?it/s]"
     ]
    },
    {
     "name": "stderr",
     "output_type": "stream",
     "text": [
      "2025/05/25 18:19:20 WARNING dspy.adapters.json_adapter: Failed to use structured output format, falling back to JSON mode.\n"
     ]
    },
    {
     "name": "stdout",
     "output_type": "stream",
     "text": [
      "Average Metric: 1.00 / 1 (100.0%): 100%|██████████| 1/1 [00:01<00:00,  1.11s/it]"
     ]
    },
    {
     "name": "stderr",
     "output_type": "stream",
     "text": [
      "2025/05/25 18:19:20 INFO dspy.evaluate.evaluate: Average Metric: 1.0 / 1 (100.0%)\n",
      "2025/05/25 18:19:20 INFO dspy.teleprompt.mipro_optimizer_v2: Score: 100.0 with parameters ['Predictor 0: Instruction 0', 'Predictor 0: Few-Shot Set 5'].\n",
      "2025/05/25 18:19:20 INFO dspy.teleprompt.mipro_optimizer_v2: Scores so far: [100.0, 100.0, 100.0, 100.0, 100.0, 100.0]\n",
      "2025/05/25 18:19:20 INFO dspy.teleprompt.mipro_optimizer_v2: Best score so far: 100.0\n",
      "2025/05/25 18:19:20 INFO dspy.teleprompt.mipro_optimizer_v2: ========================\n",
      "\n",
      "\n",
      "2025/05/25 18:19:20 INFO dspy.teleprompt.mipro_optimizer_v2: ===== Trial 7 / 10 =====\n"
     ]
    },
    {
     "name": "stdout",
     "output_type": "stream",
     "text": [
      "\n"
     ]
    },
    {
     "name": "stderr",
     "output_type": "stream",
     "text": [
      "2025/05/25 18:19:20 WARNING dspy.adapters.json_adapter: Failed to use structured output format, falling back to JSON mode.\n"
     ]
    },
    {
     "name": "stdout",
     "output_type": "stream",
     "text": [
      "Average Metric: 1.00 / 1 (100.0%): 100%|██████████| 1/1 [00:00<00:00, 1658.48it/s]"
     ]
    },
    {
     "name": "stderr",
     "output_type": "stream",
     "text": [
      "2025/05/25 18:19:20 INFO dspy.evaluate.evaluate: Average Metric: 1.0 / 1 (100.0%)\n",
      "2025/05/25 18:19:20 INFO dspy.teleprompt.mipro_optimizer_v2: Score: 100.0 with parameters ['Predictor 0: Instruction 2', 'Predictor 0: Few-Shot Set 0'].\n",
      "2025/05/25 18:19:20 INFO dspy.teleprompt.mipro_optimizer_v2: Scores so far: [100.0, 100.0, 100.0, 100.0, 100.0, 100.0, 100.0]\n",
      "2025/05/25 18:19:20 INFO dspy.teleprompt.mipro_optimizer_v2: Best score so far: 100.0\n",
      "2025/05/25 18:19:20 INFO dspy.teleprompt.mipro_optimizer_v2: ========================\n",
      "\n",
      "\n",
      "2025/05/25 18:19:20 INFO dspy.teleprompt.mipro_optimizer_v2: ===== Trial 8 / 10 =====\n",
      "2025/05/25 18:19:20 WARNING dspy.adapters.json_adapter: Failed to use structured output format, falling back to JSON mode.\n"
     ]
    },
    {
     "name": "stdout",
     "output_type": "stream",
     "text": [
      "\n",
      "Average Metric: 1.00 / 1 (100.0%): 100%|██████████| 1/1 [00:00<00:00, 1597.22it/s]"
     ]
    },
    {
     "name": "stderr",
     "output_type": "stream",
     "text": [
      "2025/05/25 18:19:20 INFO dspy.evaluate.evaluate: Average Metric: 1.0 / 1 (100.0%)\n",
      "2025/05/25 18:19:20 INFO dspy.teleprompt.mipro_optimizer_v2: Score: 100.0 with parameters ['Predictor 0: Instruction 2', 'Predictor 0: Few-Shot Set 5'].\n",
      "2025/05/25 18:19:20 INFO dspy.teleprompt.mipro_optimizer_v2: Scores so far: [100.0, 100.0, 100.0, 100.0, 100.0, 100.0, 100.0, 100.0]\n",
      "2025/05/25 18:19:20 INFO dspy.teleprompt.mipro_optimizer_v2: Best score so far: 100.0\n",
      "2025/05/25 18:19:20 INFO dspy.teleprompt.mipro_optimizer_v2: ========================\n",
      "\n",
      "\n",
      "2025/05/25 18:19:20 INFO dspy.teleprompt.mipro_optimizer_v2: ===== Trial 9 / 10 =====\n",
      "2025/05/25 18:19:20 WARNING dspy.adapters.json_adapter: Failed to use structured output format, falling back to JSON mode.\n"
     ]
    },
    {
     "name": "stdout",
     "output_type": "stream",
     "text": [
      "\n",
      "Average Metric: 1.00 / 1 (100.0%): 100%|██████████| 1/1 [00:00<00:00, 805.67it/s]"
     ]
    },
    {
     "name": "stderr",
     "output_type": "stream",
     "text": [
      "2025/05/25 18:19:20 INFO dspy.evaluate.evaluate: Average Metric: 1.0 / 1 (100.0%)\n",
      "2025/05/25 18:19:20 INFO dspy.teleprompt.mipro_optimizer_v2: Score: 100.0 with parameters ['Predictor 0: Instruction 1', 'Predictor 0: Few-Shot Set 4'].\n",
      "2025/05/25 18:19:20 INFO dspy.teleprompt.mipro_optimizer_v2: Scores so far: [100.0, 100.0, 100.0, 100.0, 100.0, 100.0, 100.0, 100.0, 100.0]\n",
      "2025/05/25 18:19:20 INFO dspy.teleprompt.mipro_optimizer_v2: Best score so far: 100.0\n",
      "2025/05/25 18:19:20 INFO dspy.teleprompt.mipro_optimizer_v2: ========================\n",
      "\n",
      "\n",
      "2025/05/25 18:19:20 INFO dspy.teleprompt.mipro_optimizer_v2: ===== Trial 10 / 10 =====\n",
      "2025/05/25 18:19:20 WARNING dspy.adapters.json_adapter: Failed to use structured output format, falling back to JSON mode.\n"
     ]
    },
    {
     "name": "stdout",
     "output_type": "stream",
     "text": [
      "\n",
      "Average Metric: 1.00 / 1 (100.0%): 100%|██████████| 1/1 [00:00<00:00, 793.02it/s]"
     ]
    },
    {
     "name": "stderr",
     "output_type": "stream",
     "text": [
      "2025/05/25 18:19:20 INFO dspy.evaluate.evaluate: Average Metric: 1.0 / 1 (100.0%)\n",
      "2025/05/25 18:19:20 INFO dspy.teleprompt.mipro_optimizer_v2: Score: 100.0 with parameters ['Predictor 0: Instruction 2', 'Predictor 0: Few-Shot Set 5'].\n",
      "2025/05/25 18:19:20 INFO dspy.teleprompt.mipro_optimizer_v2: Scores so far: [100.0, 100.0, 100.0, 100.0, 100.0, 100.0, 100.0, 100.0, 100.0, 100.0]\n",
      "2025/05/25 18:19:20 INFO dspy.teleprompt.mipro_optimizer_v2: Best score so far: 100.0\n",
      "2025/05/25 18:19:20 INFO dspy.teleprompt.mipro_optimizer_v2: =========================\n",
      "\n",
      "\n",
      "2025/05/25 18:19:20 INFO dspy.teleprompt.mipro_optimizer_v2: ===== Trial 11 / 10 =====\n",
      "2025/05/25 18:19:20 WARNING dspy.adapters.json_adapter: Failed to use structured output format, falling back to JSON mode.\n"
     ]
    },
    {
     "name": "stdout",
     "output_type": "stream",
     "text": [
      "\n",
      "Average Metric: 1.00 / 1 (100.0%): 100%|██████████| 1/1 [00:00<00:00, 3344.74it/s]"
     ]
    },
    {
     "name": "stderr",
     "output_type": "stream",
     "text": [
      "2025/05/25 18:19:20 INFO dspy.evaluate.evaluate: Average Metric: 1.0 / 1 (100.0%)\n",
      "2025/05/25 18:19:20 INFO dspy.teleprompt.mipro_optimizer_v2: Score: 100.0 with parameters ['Predictor 0: Instruction 0', 'Predictor 0: Few-Shot Set 0'].\n",
      "2025/05/25 18:19:20 INFO dspy.teleprompt.mipro_optimizer_v2: Scores so far: [100.0, 100.0, 100.0, 100.0, 100.0, 100.0, 100.0, 100.0, 100.0, 100.0, 100.0]\n",
      "2025/05/25 18:19:20 INFO dspy.teleprompt.mipro_optimizer_v2: Best score so far: 100.0\n",
      "2025/05/25 18:19:20 INFO dspy.teleprompt.mipro_optimizer_v2: =========================\n",
      "\n",
      "\n",
      "2025/05/25 18:19:20 INFO dspy.teleprompt.mipro_optimizer_v2: Returning best identified program with score 100.0!\n"
     ]
    },
    {
     "name": "stdout",
     "output_type": "stream",
     "text": [
      "\n"
     ]
    }
   ],
   "source": [
    "# 5. Run the Optimizer (SIMBA or MIPROv2)\n",
    "optimizer = dspy.MIPROv2(\n",
    "    metric=llm_judge_metric,\n",
    "    num_threads=4,\n",
    "    max_bootstrapped_demos=2\n",
    ")\n",
    "\n",
    "# Compile (optimize) the program\n",
    "optimized_summarizer = optimizer.compile(\n",
    "    ReviewSummarizer(),\n",
    "    trainset=trainset,\n",
    "    requires_permission_to_run=False\n",
    ")"
   ]
  },
  {
   "cell_type": "code",
   "execution_count": 5,
   "metadata": {},
   "outputs": [
    {
     "name": "stdout",
     "output_type": "stream",
     "text": [
      "Summary: Customers love how user-friendly and intuitive the app is, making it easy to get started right away. They also appreciate the quick and responsive customer support. While some users wish for additional features found in competitors, the overall experience is positive, making this app a reliable choice for those seeking simplicity and excellent support.\n"
     ]
    }
   ],
   "source": [
    "# 6. Evaluate the Optimized Program\n",
    "# Test the optimized summarizer on a new set of reviews.\n",
    "test_reviews = [\n",
    "    \"The app is easy to use and very intuitive.\",\n",
    "    \"Customer support was quick to respond.\",\n",
    "    \"Some features are missing compared to competitors.\"\n",
    "]\n",
    "result = optimized_summarizer(reviews=test_reviews)\n",
    "print(\"Summary:\", result.summary)"
   ]
  },
  {
   "cell_type": "code",
   "execution_count": 11,
   "metadata": {},
   "outputs": [
    {
     "name": "stdout",
     "output_type": "stream",
     "text": [
      "\n",
      "\n",
      "\n",
      "\n",
      "\u001b[34m[2025-05-25T18:19:20.719894]\u001b[0m\n",
      "\n",
      "\u001b[31mSystem message:\u001b[0m\n",
      "\n",
      "Your input fields are:\n",
      "1. `reviews` (str)\n",
      "2. `reference` (str)\n",
      "Your output fields are:\n",
      "1. `reasoning` (str)\n",
      "2. `score` (Literal[0, 1]): 1 if the summary is a good, faithful, and persuasive summary of the reviews, 0 otherwise.\n",
      "All interactions will be structured in the following way, with the appropriate values filled in.\n",
      "\n",
      "Inputs will have the following structure:\n",
      "\n",
      "[[ ## reviews ## ]]\n",
      "{reviews}\n",
      "\n",
      "[[ ## reference ## ]]\n",
      "{reference}\n",
      "\n",
      "Outputs will be a JSON object with the following fields.\n",
      "\n",
      "{\n",
      "  \"reasoning\": \"{reasoning}\",\n",
      "  \"score\": \"{score}        # note: the value you produce must exactly match (no extra characters) one of: 0; 1\"\n",
      "}\n",
      "In adhering to this structure, your objective is: \n",
      "        Judge if the summary is a good, faithful, and persuasive summary of the reviews.\n",
      "\n",
      "\n",
      "\u001b[31mUser message:\u001b[0m\n",
      "\n",
      "[[ ## reviews ## ]]\n",
      "Battery life is impressive.\n",
      "Screen quality is not as good as expected.\n",
      "Affordable price for the features offered.\n",
      "\n",
      "[[ ## reference ## ]]\n",
      "Users like that the product offers greaat battery life. The screen quality could be better though.\n",
      "\n",
      "Respond with a JSON object in the following order of fields: `reasoning`, then `score` (must be formatted as a valid Python Literal[0, 1]).\n",
      "\n",
      "\n",
      "\u001b[31mResponse:\u001b[0m\n",
      "\n",
      "\u001b[32m{\n",
      "  \"reasoning\": \"The review mentions that the battery life is impressive and the screen quality is not as good as expected, which aligns with the reference that users like the great battery life but note the screen quality could be better. The review also comments on the affordability, which is not addressed in the reference, but this does not detract from the overall faithfulness. Therefore, the summary accurately captures the main points of the reviews and the reference.\",\n",
      "  \"score\": 1\n",
      "}\u001b[0m\n",
      "\n",
      "\n",
      "\n",
      "\n",
      "\n",
      "\u001b[34m[2025-05-25T18:19:22.227995]\u001b[0m\n",
      "\n",
      "\u001b[31mSystem message:\u001b[0m\n",
      "\n",
      "Your input fields are:\n",
      "1. `reviews` (str): All user reviews as a markdown list.\n",
      "Your output fields are:\n",
      "1. `summary` (str): A persuasive summary of the reviews.\n",
      "All interactions will be structured in the following way, with the appropriate values filled in.\n",
      "\n",
      "[[ ## reviews ## ]]\n",
      "{reviews}\n",
      "\n",
      "[[ ## summary ## ]]\n",
      "{summary}\n",
      "\n",
      "[[ ## completed ## ]]\n",
      "In adhering to this structure, your objective is: \n",
      "        Summarize the provided user reviews to maximize purchase intent.\n",
      "        # Role\n",
      "        You are an expert review summarizer. You know what makes people tick and buy when they read a review summary.\n",
      "        # Instructions\n",
      "        - Summarize the provided reviews\n",
      "        - Adjust the format so that people are more likely to purchase\n",
      "\n",
      "\n",
      "\u001b[31mUser message:\u001b[0m\n",
      "\n",
      "[[ ## reviews ## ]]\n",
      "[1] «The app is easy to use and very intuitive.»\n",
      "[2] «Customer support was quick to respond.»\n",
      "[3] «Some features are missing compared to competitors.»\n",
      "\n",
      "Respond with the corresponding output fields, starting with the field `[[ ## summary ## ]]`, and then ending with the marker for `[[ ## completed ## ]]`.\n",
      "\n",
      "\n",
      "\u001b[31mResponse:\u001b[0m\n",
      "\n",
      "\u001b[32m[[ ## summary ## ]]\n",
      "Customers love how user-friendly and intuitive the app is, making it easy to get started right away. They also appreciate the quick and responsive customer support. While some users wish for additional features found in competitors, the overall experience is positive, making this app a reliable choice for those seeking simplicity and excellent support.\n",
      "\n",
      "[[ ## completed ## ]]\u001b[0m\n",
      "\n",
      "\n",
      "\n",
      "\n",
      "\n"
     ]
    }
   ],
   "source": [
    "dspy.inspect_history(n=2)"
   ]
  },
  {
   "cell_type": "code",
   "execution_count": 6,
   "metadata": {},
   "outputs": [],
   "source": [
    "# 7. Save and Load the Optimized Program\n",
    "# Ensure the output directory exists\n",
    "output_dir = os.path.abspath('../prompt')\n",
    "os.makedirs(output_dir, exist_ok=True)\n",
    "output_path = os.path.join(output_dir, \"optimized_summarizer.json\")\n",
    "\n",
    "optimized_summarizer.save(output_path)\n",
    "\n",
    "loaded_summarizer = ReviewSummarizer()\n",
    "loaded_summarizer.load(path=output_path) "
   ]
  }
 ],
 "metadata": {
  "kernelspec": {
   "display_name": ".venv",
   "language": "python",
   "name": "python3"
  },
  "language_info": {
   "codemirror_mode": {
    "name": "ipython",
    "version": 3
   },
   "file_extension": ".py",
   "mimetype": "text/x-python",
   "name": "python",
   "nbconvert_exporter": "python",
   "pygments_lexer": "ipython3",
   "version": "3.11.9"
  }
 },
 "nbformat": 4,
 "nbformat_minor": 2
}
