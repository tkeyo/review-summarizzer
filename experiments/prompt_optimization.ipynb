{
 "cells": [
  {
   "cell_type": "markdown",
   "metadata": {
    "vscode": {
     "languageId": "plaintext"
    }
   },
   "source": [
    "# Review Summarization Prompt Optimization with DSPy (SIMBA/MIPROv2)\n",
    "\n",
    "This script demonstrates how to optimize prompts in a DSPy program for summarizing user reviews.\n",
    "\n",
    "## References:\n",
    "- https://dspy.ai/learn/optimization/optimizers/#__tabbed_1_3\n",
    "- https://dspy.ai/tutorials/classification_finetuning/\n",
    "- https://dspy.ai/tutorials/math/"
   ]
  },
  {
   "cell_type": "code",
   "execution_count": 3,
   "metadata": {},
   "outputs": [],
   "source": [
    "# 1. Setup\n",
    "# Import required libraries and configure the language model.\n",
    "import dspy\n",
    "from typing import List, Dict\n",
    "from app.signatures import SummarizeSignature\n",
    "import os\n",
    "\n",
    "# Configure the language model (replace with your preferred model)\n",
    "dspy.configure(lm=dspy.LM('gpt-4.1-nano'))"
   ]
  },
  {
   "cell_type": "code",
   "execution_count": 4,
   "metadata": {},
   "outputs": [],
   "source": [
    "# 2. Define a DSPy Summarizer Program\n",
    "\n",
    "# Use the shared SummarizeSignature\n",
    "class ReviewSummarizer(dspy.Module):\n",
    "    def __init__(self):\n",
    "        self.summarize = dspy.Predict(SummarizeSignature)\n",
    "    def forward(self, reviews: List[str]) -> Dict[str, str]:\n",
    "        # Join reviews into a single string for the prompt\n",
    "        reviews_text = \"\\n\".join(reviews)\n",
    "        return self.summarize(reviews=reviews_text)"
   ]
  },
  {
   "cell_type": "code",
   "execution_count": null,
   "metadata": {},
   "outputs": [],
   "source": [
    "# 3. Prepare Training Data\n",
    "# Each example is a list of reviews and a reference summary.\n",
    "trainset = [\n",
    "    dspy.Example(\n",
    "        reviews=[\n",
    "            \"Room was clean and spacious.\",\n",
    "            \"Excellent location, but noisy at night.\",\n",
    "            \"Staff was helpful and check-in was quick.\"\n",
    "        ],\n",
    "        # summary=\"The hotel has clean, spacious rooms and helpful staff, but can be noisy at night due to its location.\",\n",
    "        reference=\"Users like the cleanliness of the hotel. The adjecent streets are noisy.\"\n",
    "    ).with_inputs(\"reviews\"),\n",
    "    dspy.Example(\n",
    "        reviews=[\n",
    "            \"Battery life is impressive.\",\n",
    "            \"Screen quality is not as good as expected.\",\n",
    "            \"Affordable price for the features offered.\"\n",
    "        ],\n",
    "        # summary=\"The product offers great battery life and features for its price, but the screen quality could be better.\",\n",
    "        reference=\"Users like that the product offers greaat battery life. The screen quality could be better though.\"\n",
    "    ).with_inputs(\"reviews\"),\n",
    "]"
   ]
  },
  {
   "cell_type": "code",
   "execution_count": 36,
   "metadata": {},
   "outputs": [],
   "source": [
    "from typing import Literal\n",
    "\n",
    "# 4. Define LLM as Judge Metric\n",
    "class JudgeSignature(dspy.Signature):\n",
    "    \"\"\"Judge if the summary is a good, faithful, and persuasive summary of the reviews.\"\"\"\n",
    "    reviews = dspy.InputField()\n",
    "    reference = dspy.InputField()\n",
    "    score: Literal[0,1] = dspy.OutputField(desc=\"1 if the summary is a good, faithful, and persuasive summary of the reviews, 0 otherwise.\")\n",
    "\n",
    "llm_judge = dspy.ChainOfThought(JudgeSignature)\n",
    "\n",
    "\n",
    "def llm_judge_metric(example, prediction, trace=None):\n",
    "    return prediction.summary == example.reference\n",
    "\n",
    "def llm_judge_metric(example, prediction, trace=None):\n",
    "    result = llm_judge(\n",
    "        reviews=\"\\n\".join(example.reviews),\n",
    "        reference=example.reference\n",
    "    )\n",
    "    return float(result.score)"
   ]
  },
  {
   "cell_type": "code",
   "execution_count": 45,
   "metadata": {},
   "outputs": [
    {
     "name": "stderr",
     "output_type": "stream",
     "text": [
      "2025/05/25 13:15:36 INFO dspy.teleprompt.mipro_optimizer_v2: \n",
      "RUNNING WITH THE FOLLOWING LIGHT AUTO RUN SETTINGS:\n",
      "num_trials: 10\n",
      "minibatch: False\n",
      "num_fewshot_candidates: 6\n",
      "num_instruct_candidates: 3\n",
      "valset size: 1\n",
      "\n",
      "2025/05/25 13:15:36 INFO dspy.teleprompt.mipro_optimizer_v2: \n",
      "==> STEP 1: BOOTSTRAP FEWSHOT EXAMPLES <==\n",
      "2025/05/25 13:15:36 INFO dspy.teleprompt.mipro_optimizer_v2: These will be used as few-shot example candidates for our program and for creating instructions.\n",
      "\n",
      "2025/05/25 13:15:36 INFO dspy.teleprompt.mipro_optimizer_v2: Bootstrapping N=6 sets of demonstrations...\n"
     ]
    },
    {
     "name": "stdout",
     "output_type": "stream",
     "text": [
      "Bootstrapping set 1/6\n",
      "Bootstrapping set 2/6\n",
      "Bootstrapping set 3/6\n"
     ]
    },
    {
     "name": "stderr",
     "output_type": "stream",
     "text": [
      "100%|██████████| 1/1 [00:00<00:00, 134.81it/s]\n"
     ]
    },
    {
     "name": "stdout",
     "output_type": "stream",
     "text": [
      "Bootstrapped 1 full traces after 0 examples for up to 1 rounds, amounting to 1 attempts.\n",
      "Bootstrapping set 4/6\n"
     ]
    },
    {
     "name": "stderr",
     "output_type": "stream",
     "text": [
      "100%|██████████| 1/1 [00:00<00:00, 161.59it/s]\n"
     ]
    },
    {
     "name": "stdout",
     "output_type": "stream",
     "text": [
      "Bootstrapped 1 full traces after 0 examples for up to 1 rounds, amounting to 1 attempts.\n",
      "Bootstrapping set 5/6\n"
     ]
    },
    {
     "name": "stderr",
     "output_type": "stream",
     "text": [
      "100%|██████████| 1/1 [00:00<00:00, 204.24it/s]\n"
     ]
    },
    {
     "name": "stdout",
     "output_type": "stream",
     "text": [
      "Bootstrapped 1 full traces after 0 examples for up to 1 rounds, amounting to 1 attempts.\n",
      "Bootstrapping set 6/6\n"
     ]
    },
    {
     "name": "stderr",
     "output_type": "stream",
     "text": [
      "100%|██████████| 1/1 [00:00<00:00, 220.45it/s]\n",
      "2025/05/25 13:15:36 INFO dspy.teleprompt.mipro_optimizer_v2: \n",
      "==> STEP 2: PROPOSE INSTRUCTION CANDIDATES <==\n",
      "2025/05/25 13:15:36 INFO dspy.teleprompt.mipro_optimizer_v2: We will use the few-shot examples from the previous step, a generated dataset summary, a summary of the program code, and a randomly selected prompting tip to propose instructions.\n",
      "2025/05/25 13:15:36 INFO dspy.teleprompt.mipro_optimizer_v2: \n",
      "Proposing N=3 instructions...\n",
      "\n",
      "2025/05/25 13:15:36 INFO dspy.teleprompt.mipro_optimizer_v2: Proposed Instructions for Predictor 0:\n",
      "\n",
      "2025/05/25 13:15:36 INFO dspy.teleprompt.mipro_optimizer_v2: 0: Summarize the provided user reviews to maximize purchase intent.\n",
      "# Role\n",
      "You are an expert review summarizer. You know what makes people tick and buy when they read a review summary.\n",
      "# Instructions\n",
      "- Summarize the provided reviews\n",
      "- Adjust the format so that people are more likely to purchase\n",
      "\n",
      "2025/05/25 13:15:36 INFO dspy.teleprompt.mipro_optimizer_v2: 1: You are an expert review summarizer tasked with creating persuasive summaries of user reviews to enhance purchase intent. Given a collection of reviews, combine and condense the information into a compelling, concise summary that highlights positive aspects and addresses potential concerns in a way that motivates potential buyers to make a purchase. Ensure the summary emphasizes tangible benefits like cleanliness, spaciousness, helpful staff, and convenient location, while transparently mentioning issues such as nighttime noise that may affect the experience. Format the summary in a way that appeals to prospective customers by focusing on what matters most to them and framing the review insights to encourage confidence and decision-making.\n",
      "\n",
      "2025/05/25 13:15:36 INFO dspy.teleprompt.mipro_optimizer_v2: 2: You are an expert review summarizer tasked with creating persuasive and compelling summaries of user reviews to encourage potential customers to make a purchase or engage with the product or service. Your summaries should highlight the positive aspects emphasized by users, such as cleanliness, spaciousness, helpful staff, and location, while also acknowledging common concerns like nighttime noise. Format your summaries in a way that emphasizes benefits and addresses potential objections, making the overall presentation more appealing and convincing. Your goal is to craft a concise, engaging, and persuasive summary that maximizes purchase intent by focusing on what customers value most and reassuring them of the overall quality and experience.\n",
      "\n",
      "2025/05/25 13:15:36 INFO dspy.teleprompt.mipro_optimizer_v2: \n",
      "\n",
      "2025/05/25 13:15:36 INFO dspy.teleprompt.mipro_optimizer_v2: ==> STEP 3: FINDING OPTIMAL PROMPT PARAMETERS <==\n",
      "2025/05/25 13:15:36 INFO dspy.teleprompt.mipro_optimizer_v2: We will evaluate the program over a series of trials with different combinations of instructions and few-shot examples to find the optimal combination using Bayesian Optimization.\n",
      "\n",
      "2025/05/25 13:15:36 INFO dspy.teleprompt.mipro_optimizer_v2: == Trial 1 / 10 - Full Evaluation of Default Program ==\n"
     ]
    },
    {
     "name": "stdout",
     "output_type": "stream",
     "text": [
      "Bootstrapped 1 full traces after 0 examples for up to 1 rounds, amounting to 1 attempts.\n",
      "class SummarizeSignature(dspy.Signature):\n",
      "    \"\"\"Summarize the provided user reviews to maximize purchase intent.\n",
      "    # Role\n",
      "    You are an expert review summarizer. You know what makes people tick and buy when they read a review summary.\n",
      "    # Instructions\n",
      "    - Summarize the provided reviews\n",
      "    - Adjust the format so that people are more likely to purchase\n",
      "    \"\"\"\n",
      "    reviews = dspy.InputField(desc=\"All user reviews as a markdown list.\")\n",
      "    summary = dspy.OutputField(desc=\"A persuasive summary of the reviews.\") \n",
      "\n",
      "Average Metric: 1.00 / 1 (100.0%): 100%|██████████| 1/1 [00:00<00:00, 1757.14it/s]"
     ]
    },
    {
     "name": "stderr",
     "output_type": "stream",
     "text": [
      "2025/05/25 13:15:36 INFO dspy.evaluate.evaluate: Average Metric: 1.0 / 1 (100.0%)\n",
      "2025/05/25 13:15:36 INFO dspy.teleprompt.mipro_optimizer_v2: Default program score: 100.0\n",
      "\n",
      "/Users/tk/projects/cursor-test/.venv/lib/python3.11/site-packages/optuna/_experimental.py:31: ExperimentalWarning: Argument ``multivariate`` is an experimental feature. The interface can change in the future.\n",
      "  warnings.warn(\n",
      "2025/05/25 13:15:36 INFO dspy.teleprompt.mipro_optimizer_v2: ===== Trial 2 / 10 =====\n"
     ]
    },
    {
     "name": "stdout",
     "output_type": "stream",
     "text": [
      "\n",
      "Average Metric: 1.00 / 1 (100.0%): 100%|██████████| 1/1 [00:00<00:00, 2597.09it/s]"
     ]
    },
    {
     "name": "stderr",
     "output_type": "stream",
     "text": [
      "2025/05/25 13:15:36 INFO dspy.evaluate.evaluate: Average Metric: 1.0 / 1 (100.0%)\n",
      "2025/05/25 13:15:36 INFO dspy.teleprompt.mipro_optimizer_v2: Score: 100.0 with parameters ['Predictor 0: Instruction 1', 'Predictor 0: Few-Shot Set 3'].\n",
      "2025/05/25 13:15:36 INFO dspy.teleprompt.mipro_optimizer_v2: Scores so far: [100.0, 100.0]\n",
      "2025/05/25 13:15:36 INFO dspy.teleprompt.mipro_optimizer_v2: Best score so far: 100.0\n",
      "2025/05/25 13:15:36 INFO dspy.teleprompt.mipro_optimizer_v2: ========================\n",
      "\n",
      "\n",
      "2025/05/25 13:15:36 INFO dspy.teleprompt.mipro_optimizer_v2: ===== Trial 3 / 10 =====\n"
     ]
    },
    {
     "name": "stdout",
     "output_type": "stream",
     "text": [
      "\n",
      "Average Metric: 1.00 / 1 (100.0%): 100%|██████████| 1/1 [00:00<00:00, 1382.89it/s]"
     ]
    },
    {
     "name": "stderr",
     "output_type": "stream",
     "text": [
      "2025/05/25 13:15:36 INFO dspy.evaluate.evaluate: Average Metric: 1.0 / 1 (100.0%)\n",
      "2025/05/25 13:15:36 INFO dspy.teleprompt.mipro_optimizer_v2: Score: 100.0 with parameters ['Predictor 0: Instruction 2', 'Predictor 0: Few-Shot Set 0'].\n",
      "2025/05/25 13:15:36 INFO dspy.teleprompt.mipro_optimizer_v2: Scores so far: [100.0, 100.0, 100.0]\n",
      "2025/05/25 13:15:36 INFO dspy.teleprompt.mipro_optimizer_v2: Best score so far: 100.0\n",
      "2025/05/25 13:15:36 INFO dspy.teleprompt.mipro_optimizer_v2: ========================\n",
      "\n",
      "\n",
      "2025/05/25 13:15:36 INFO dspy.teleprompt.mipro_optimizer_v2: ===== Trial 4 / 10 =====\n"
     ]
    },
    {
     "name": "stdout",
     "output_type": "stream",
     "text": [
      "\n",
      "Average Metric: 1.00 / 1 (100.0%): 100%|██████████| 1/1 [00:00<00:00, 1741.82it/s]"
     ]
    },
    {
     "name": "stderr",
     "output_type": "stream",
     "text": [
      "2025/05/25 13:15:36 INFO dspy.evaluate.evaluate: Average Metric: 1.0 / 1 (100.0%)\n",
      "2025/05/25 13:15:36 INFO dspy.teleprompt.mipro_optimizer_v2: Score: 100.0 with parameters ['Predictor 0: Instruction 1', 'Predictor 0: Few-Shot Set 5'].\n",
      "2025/05/25 13:15:36 INFO dspy.teleprompt.mipro_optimizer_v2: Scores so far: [100.0, 100.0, 100.0, 100.0]\n",
      "2025/05/25 13:15:36 INFO dspy.teleprompt.mipro_optimizer_v2: Best score so far: 100.0\n",
      "2025/05/25 13:15:36 INFO dspy.teleprompt.mipro_optimizer_v2: ========================\n",
      "\n",
      "\n",
      "2025/05/25 13:15:36 INFO dspy.teleprompt.mipro_optimizer_v2: ===== Trial 5 / 10 =====\n"
     ]
    },
    {
     "name": "stdout",
     "output_type": "stream",
     "text": [
      "\n",
      "Average Metric: 1.00 / 1 (100.0%): 100%|██████████| 1/1 [00:00<00:00, 1893.59it/s]"
     ]
    },
    {
     "name": "stderr",
     "output_type": "stream",
     "text": [
      "2025/05/25 13:15:36 INFO dspy.evaluate.evaluate: Average Metric: 1.0 / 1 (100.0%)\n",
      "2025/05/25 13:15:36 INFO dspy.teleprompt.mipro_optimizer_v2: Score: 100.0 with parameters ['Predictor 0: Instruction 2', 'Predictor 0: Few-Shot Set 2'].\n",
      "2025/05/25 13:15:36 INFO dspy.teleprompt.mipro_optimizer_v2: Scores so far: [100.0, 100.0, 100.0, 100.0, 100.0]\n",
      "2025/05/25 13:15:36 INFO dspy.teleprompt.mipro_optimizer_v2: Best score so far: 100.0\n",
      "2025/05/25 13:15:36 INFO dspy.teleprompt.mipro_optimizer_v2: ========================\n",
      "\n",
      "\n",
      "2025/05/25 13:15:36 INFO dspy.teleprompt.mipro_optimizer_v2: ===== Trial 6 / 10 =====\n"
     ]
    },
    {
     "name": "stdout",
     "output_type": "stream",
     "text": [
      "\n",
      "Average Metric: 1.00 / 1 (100.0%): 100%|██████████| 1/1 [00:00<00:00, 2364.32it/s]"
     ]
    },
    {
     "name": "stderr",
     "output_type": "stream",
     "text": [
      "2025/05/25 13:15:36 INFO dspy.evaluate.evaluate: Average Metric: 1.0 / 1 (100.0%)\n",
      "2025/05/25 13:15:36 INFO dspy.teleprompt.mipro_optimizer_v2: Score: 100.0 with parameters ['Predictor 0: Instruction 0', 'Predictor 0: Few-Shot Set 5'].\n",
      "2025/05/25 13:15:36 INFO dspy.teleprompt.mipro_optimizer_v2: Scores so far: [100.0, 100.0, 100.0, 100.0, 100.0, 100.0]\n",
      "2025/05/25 13:15:36 INFO dspy.teleprompt.mipro_optimizer_v2: Best score so far: 100.0\n",
      "2025/05/25 13:15:36 INFO dspy.teleprompt.mipro_optimizer_v2: ========================\n",
      "\n",
      "\n"
     ]
    },
    {
     "name": "stdout",
     "output_type": "stream",
     "text": [
      "\n"
     ]
    },
    {
     "name": "stderr",
     "output_type": "stream",
     "text": [
      "2025/05/25 13:15:36 INFO dspy.teleprompt.mipro_optimizer_v2: ===== Trial 7 / 10 =====\n"
     ]
    },
    {
     "name": "stdout",
     "output_type": "stream",
     "text": [
      "Average Metric: 1.00 / 1 (100.0%): 100%|██████████| 1/1 [00:00<00:00, 94.15it/s]"
     ]
    },
    {
     "name": "stderr",
     "output_type": "stream",
     "text": [
      "2025/05/25 13:15:36 INFO dspy.evaluate.evaluate: Average Metric: 1.0 / 1 (100.0%)\n",
      "2025/05/25 13:15:36 INFO dspy.teleprompt.mipro_optimizer_v2: Score: 100.0 with parameters ['Predictor 0: Instruction 2', 'Predictor 0: Few-Shot Set 0'].\n",
      "2025/05/25 13:15:36 INFO dspy.teleprompt.mipro_optimizer_v2: Scores so far: [100.0, 100.0, 100.0, 100.0, 100.0, 100.0, 100.0]\n",
      "2025/05/25 13:15:36 INFO dspy.teleprompt.mipro_optimizer_v2: Best score so far: 100.0\n",
      "2025/05/25 13:15:36 INFO dspy.teleprompt.mipro_optimizer_v2: ========================\n",
      "\n",
      "\n",
      "2025/05/25 13:15:36 INFO dspy.teleprompt.mipro_optimizer_v2: ===== Trial 8 / 10 =====\n"
     ]
    },
    {
     "name": "stdout",
     "output_type": "stream",
     "text": [
      "\n",
      "Average Metric: 1.00 / 1 (100.0%): 100%|██████████| 1/1 [00:00<00:00, 461.22it/s]"
     ]
    },
    {
     "name": "stderr",
     "output_type": "stream",
     "text": [
      "2025/05/25 13:15:36 INFO dspy.evaluate.evaluate: Average Metric: 1.0 / 1 (100.0%)\n",
      "2025/05/25 13:15:36 INFO dspy.teleprompt.mipro_optimizer_v2: Score: 100.0 with parameters ['Predictor 0: Instruction 2', 'Predictor 0: Few-Shot Set 5'].\n",
      "2025/05/25 13:15:36 INFO dspy.teleprompt.mipro_optimizer_v2: Scores so far: [100.0, 100.0, 100.0, 100.0, 100.0, 100.0, 100.0, 100.0]\n",
      "2025/05/25 13:15:36 INFO dspy.teleprompt.mipro_optimizer_v2: Best score so far: 100.0\n",
      "2025/05/25 13:15:36 INFO dspy.teleprompt.mipro_optimizer_v2: ========================\n",
      "\n",
      "\n",
      "2025/05/25 13:15:36 INFO dspy.teleprompt.mipro_optimizer_v2: ===== Trial 9 / 10 =====\n"
     ]
    },
    {
     "name": "stdout",
     "output_type": "stream",
     "text": [
      "\n",
      "Average Metric: 1.00 / 1 (100.0%): 100%|██████████| 1/1 [00:00<00:00, 2304.56it/s]"
     ]
    },
    {
     "name": "stderr",
     "output_type": "stream",
     "text": [
      "2025/05/25 13:15:36 INFO dspy.evaluate.evaluate: Average Metric: 1.0 / 1 (100.0%)\n",
      "2025/05/25 13:15:36 INFO dspy.teleprompt.mipro_optimizer_v2: Score: 100.0 with parameters ['Predictor 0: Instruction 1', 'Predictor 0: Few-Shot Set 4'].\n",
      "2025/05/25 13:15:36 INFO dspy.teleprompt.mipro_optimizer_v2: Scores so far: [100.0, 100.0, 100.0, 100.0, 100.0, 100.0, 100.0, 100.0, 100.0]\n",
      "2025/05/25 13:15:36 INFO dspy.teleprompt.mipro_optimizer_v2: Best score so far: 100.0\n",
      "2025/05/25 13:15:36 INFO dspy.teleprompt.mipro_optimizer_v2: ========================\n",
      "\n",
      "\n",
      "2025/05/25 13:15:36 INFO dspy.teleprompt.mipro_optimizer_v2: ===== Trial 10 / 10 =====\n"
     ]
    },
    {
     "name": "stdout",
     "output_type": "stream",
     "text": [
      "\n",
      "Average Metric: 1.00 / 1 (100.0%): 100%|██████████| 1/1 [00:00<00:00, 1274.09it/s]"
     ]
    },
    {
     "name": "stderr",
     "output_type": "stream",
     "text": [
      "2025/05/25 13:15:36 INFO dspy.evaluate.evaluate: Average Metric: 1.0 / 1 (100.0%)\n",
      "2025/05/25 13:15:36 INFO dspy.teleprompt.mipro_optimizer_v2: Score: 100.0 with parameters ['Predictor 0: Instruction 2', 'Predictor 0: Few-Shot Set 5'].\n",
      "2025/05/25 13:15:36 INFO dspy.teleprompt.mipro_optimizer_v2: Scores so far: [100.0, 100.0, 100.0, 100.0, 100.0, 100.0, 100.0, 100.0, 100.0, 100.0]\n",
      "2025/05/25 13:15:36 INFO dspy.teleprompt.mipro_optimizer_v2: Best score so far: 100.0\n",
      "2025/05/25 13:15:36 INFO dspy.teleprompt.mipro_optimizer_v2: =========================\n",
      "\n",
      "\n",
      "2025/05/25 13:15:36 INFO dspy.teleprompt.mipro_optimizer_v2: ===== Trial 11 / 10 =====\n"
     ]
    },
    {
     "name": "stdout",
     "output_type": "stream",
     "text": [
      "\n",
      "Average Metric: 1.00 / 1 (100.0%): 100%|██████████| 1/1 [00:00<00:00, 1626.33it/s]"
     ]
    },
    {
     "name": "stderr",
     "output_type": "stream",
     "text": [
      "2025/05/25 13:15:36 INFO dspy.evaluate.evaluate: Average Metric: 1.0 / 1 (100.0%)\n",
      "2025/05/25 13:15:36 INFO dspy.teleprompt.mipro_optimizer_v2: Score: 100.0 with parameters ['Predictor 0: Instruction 0', 'Predictor 0: Few-Shot Set 0'].\n",
      "2025/05/25 13:15:36 INFO dspy.teleprompt.mipro_optimizer_v2: Scores so far: [100.0, 100.0, 100.0, 100.0, 100.0, 100.0, 100.0, 100.0, 100.0, 100.0, 100.0]\n",
      "2025/05/25 13:15:36 INFO dspy.teleprompt.mipro_optimizer_v2: Best score so far: 100.0\n",
      "2025/05/25 13:15:36 INFO dspy.teleprompt.mipro_optimizer_v2: =========================\n",
      "\n",
      "\n",
      "2025/05/25 13:15:36 INFO dspy.teleprompt.mipro_optimizer_v2: Returning best identified program with score 100.0!\n"
     ]
    },
    {
     "name": "stdout",
     "output_type": "stream",
     "text": [
      "\n"
     ]
    }
   ],
   "source": [
    "# 5. Run the Optimizer (SIMBA or MIPROv2)\n",
    "optimizer = dspy.MIPROv2(\n",
    "    metric=llm_judge_metric,\n",
    "    num_threads=4,\n",
    "    max_bootstrapped_demos=2\n",
    ")\n",
    "\n",
    "# Compile (optimize) the program\n",
    "optimized_summarizer = optimizer.compile(\n",
    "    ReviewSummarizer(),\n",
    "    trainset=trainset,\n",
    "    requires_permission_to_run=False\n",
    ")"
   ]
  },
  {
   "cell_type": "code",
   "execution_count": 46,
   "metadata": {},
   "outputs": [
    {
     "name": "stdout",
     "output_type": "stream",
     "text": [
      "Summary: Experience seamless usability with this app's intuitive design and prompt customer support. While it may lack some features found in competitors, its user-friendly interface makes it a top choice for those seeking simplicity and reliable assistance. Don't miss out on a smooth and responsive app that will meet your basic needs effortlessly.\n"
     ]
    }
   ],
   "source": [
    "# 6. Evaluate the Optimized Program\n",
    "# Test the optimized summarizer on a new set of reviews.\n",
    "test_reviews = [\n",
    "    \"The app is easy to use and very intuitive.\",\n",
    "    \"Customer support was quick to respond.\",\n",
    "    \"Some features are missing compared to competitors.\"\n",
    "]\n",
    "result = optimized_summarizer(reviews=test_reviews)\n",
    "print(\"Summary:\", result.summary)"
   ]
  },
  {
   "cell_type": "code",
   "execution_count": 47,
   "metadata": {},
   "outputs": [],
   "source": [
    "# 7. Save and Load the Optimized Program\n",
    "# Ensure the output directory exists\n",
    "output_dir = os.path.abspath('../prompt')\n",
    "os.makedirs(output_dir, exist_ok=True)\n",
    "output_path = os.path.join(output_dir, \"optimized_summarizer.json\")\n",
    "\n",
    "optimized_summarizer.save(output_path)\n",
    "\n",
    "loaded_summarizer = ReviewSummarizer()\n",
    "loaded_summarizer.load(path=output_path) "
   ]
  }
 ],
 "metadata": {
  "kernelspec": {
   "display_name": ".venv",
   "language": "python",
   "name": "python3"
  },
  "language_info": {
   "codemirror_mode": {
    "name": "ipython",
    "version": 3
   },
   "file_extension": ".py",
   "mimetype": "text/x-python",
   "name": "python",
   "nbconvert_exporter": "python",
   "pygments_lexer": "ipython3",
   "version": "3.11.9"
  }
 },
 "nbformat": 4,
 "nbformat_minor": 2
}
