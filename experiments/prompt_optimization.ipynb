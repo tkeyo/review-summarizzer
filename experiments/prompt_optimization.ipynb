{
 "cells": [
  {
   "cell_type": "markdown",
   "metadata": {
    "vscode": {
     "languageId": "plaintext"
    }
   },
   "source": [
    "# Review Summarization Prompt Optimization with DSPy (SIMBA/MIPROv2)\n",
    "\n",
    "This script demonstrates how to optimize prompts in a DSPy program for summarizing user reviews.\n",
    "\n",
    "## References:\n",
    "- https://dspy.ai/learn/optimization/optimizers/#__tabbed_1_3\n",
    "- https://dspy.ai/tutorials/classification_finetuning/\n",
    "- https://dspy.ai/tutorials/math/"
   ]
  },
  {
   "cell_type": "code",
   "execution_count": 9,
   "metadata": {},
   "outputs": [],
   "source": [
    "# 1. Setup\n",
    "# Import required libraries and configure the language model.\n",
    "import dspy\n",
    "from typing import List, Dict\n",
    "from app.llm.review_summarizer import SummarizeSignature, ReviewSummarizer\n",
    "from app.llm.language import SupportedLanguage\n",
    "import os\n",
    "\n",
    "# Configure the language model (replace with your preferred model)\n",
    "# dspy.configure(lm=dspy.LM('gpt-4.1-nano'))"
   ]
  },
  {
   "cell_type": "code",
   "execution_count": 10,
   "metadata": {},
   "outputs": [
    {
     "name": "stdout",
     "output_type": "stream",
     "text": [
      "Czech Summary:\n",
      " Objevte jednoduchost a intuitivnost naší aplikace, která vám umožní snadno a rychle zvládnout vaše úkoly.\n",
      " Díky naší rychlé a ochotné zákaznické podpoře získáte vždy potřebnou pomoc.\n",
      " Přestože některé funkce chybí ve srovnání s konkurencí, naše řešení nabízí skvělý základ pro vaše každodenní použití a neustále se vyvíjí, aby vám přineslo ještě více hodnoty.\n",
      "\n"
     ]
    }
   ],
   "source": [
    "summarizer = ReviewSummarizer()\n",
    "\n",
    "# Test the Optimized Program\n",
    "test_reviews = [\n",
    "    \"The app is easy to use and very intuitive.\",\n",
    "    \"Customer support was quick to respond.\",\n",
    "    \"Some features are missing compared to competitors.\"\n",
    "]\n",
    "\n",
    "# Test Czech\n",
    "czech_result = summarizer(\n",
    "    reviews=\"\\n\".join(test_reviews),\n",
    "    language=SupportedLanguage.CZECH\n",
    ")\n",
    "print(\"Czech Summary:\\n\", czech_result.summary.replace(\".\", \".\\n\"))"
   ]
  },
  {
   "cell_type": "code",
   "execution_count": 11,
   "metadata": {},
   "outputs": [],
   "source": [
    "# 2. Prepare Training Data\n",
    "trainset = [\n",
    "    # Hotel reviews in Czech\n",
    "    dspy.Example(\n",
    "        reviews=[\n",
    "            \"Room was clean and spacious.\",\n",
    "            \"Excellent location, but noisy at night.\",\n",
    "            \"Staff was helpful and check-in was quick.\"\n",
    "        ],\n",
    "        language=\"cs\",  # Simple string\n",
    "        reference=\"Uživatelé oceňují čistotu hotelu. Přilehlé ulice jsou hlučné.\"\n",
    "    ).with_inputs(\"reviews\", \"language\"),\n",
    "    \n",
    "    # Hotel reviews in Slovak\n",
    "    dspy.Example(\n",
    "        reviews=[\n",
    "            \"Room was clean and spacious.\",\n",
    "            \"Excellent location, but noisy at night.\",\n",
    "            \"Staff was helpful and check-in was quick.\"\n",
    "        ],\n",
    "        language=\"sk\",  # Simple string\n",
    "        reference=\"Používatelia oceňujú čistotu hotela. Priľahlé ulice sú hlučné.\"\n",
    "    ).with_inputs(\"reviews\", \"language\"),\n",
    "    \n",
    "    # Product reviews in Czech\n",
    "    dspy.Example(\n",
    "        reviews=[\n",
    "            \"Battery life is impressive.\",\n",
    "            \"Screen quality is not as good as expected.\",\n",
    "            \"Affordable price for the features offered.\"\n",
    "        ],\n",
    "        language=\"cs\",  # Simple string\n",
    "        reference=\"Uživatelé oceňují dlouhou výdrž baterie. Kvalita obrazovky by mohla být lepší.\"\n",
    "    ).with_inputs(\"reviews\", \"language\"),\n",
    "    \n",
    "    # Product reviews in Slovak\n",
    "    dspy.Example(\n",
    "        reviews=[\n",
    "            \"Battery life is impressive.\",\n",
    "            \"Screen quality is not as good as expected.\",\n",
    "            \"Affordable price for the features offered.\"\n",
    "        ],\n",
    "        language=\"sk\",  # Simple string\n",
    "        reference=\"Používatelia oceňujú dlhú výdrž batérie. Kvalita obrazovky by mohla byť lepšia.\"\n",
    "    ).with_inputs(\"reviews\", \"language\")\n",
    "]"
   ]
  },
  {
   "cell_type": "code",
   "execution_count": 12,
   "metadata": {},
   "outputs": [],
   "source": [
    "from typing import Literal\n",
    "\n",
    "# 4. Define LLM as Judge Metric\n",
    "class JudgeSignature(dspy.Signature):\n",
    "    \"\"\"Judge if the summary is a good, faithful, and persuasive summary of the reviews in the specified language.\"\"\"\n",
    "    reviews = dspy.InputField()\n",
    "    language = dspy.InputField(desc=\"Language code (cs = czech or sk = slovak)\")\n",
    "    reference = dspy.InputField()\n",
    "    prediction = dspy.InputField()\n",
    "    score: Literal[0,1] = dspy.OutputField(\n",
    "        desc=\"1 if the prediction is a good, faithful, and persuasive summary of the reviews in the specified language, 0 otherwise.\"\n",
    "    )\n",
    "\n",
    "llm_judge = dspy.ChainOfThought(JudgeSignature)\n",
    "\n",
    "\n",
    "def llm_judge_metric(example, prediction, trace=None):\n",
    "    \"\"\"Judge if the generated summary matches the reference in the specified language.\"\"\"\n",
    "    result = llm_judge(\n",
    "        reviews=\"\\n\".join(example.reviews),\n",
    "        language=example.language,  # Just pass the string directly\n",
    "        reference=example.reference,\n",
    "        prediction=prediction.summary\n",
    "    )\n",
    "    return float(result.score)"
   ]
  },
  {
   "cell_type": "code",
   "execution_count": 14,
   "metadata": {},
   "outputs": [
    {
     "name": "stderr",
     "output_type": "stream",
     "text": [
      "2025/05/26 08:49:09 INFO dspy.teleprompt.mipro_optimizer_v2: \n",
      "RUNNING WITH THE FOLLOWING LIGHT AUTO RUN SETTINGS:\n",
      "num_trials: 20\n",
      "minibatch: False\n",
      "num_fewshot_candidates: 6\n",
      "num_instruct_candidates: 3\n",
      "valset size: 3\n",
      "\n",
      "2025/05/26 08:49:09 INFO dspy.teleprompt.mipro_optimizer_v2: \n",
      "==> STEP 1: BOOTSTRAP FEWSHOT EXAMPLES <==\n",
      "2025/05/26 08:49:09 INFO dspy.teleprompt.mipro_optimizer_v2: These will be used as few-shot example candidates for our program and for creating instructions.\n",
      "\n",
      "2025/05/26 08:49:09 INFO dspy.teleprompt.mipro_optimizer_v2: Bootstrapping N=6 sets of demonstrations...\n"
     ]
    },
    {
     "name": "stdout",
     "output_type": "stream",
     "text": [
      "Bootstrapping set 1/6\n",
      "Bootstrapping set 2/6\n",
      "Bootstrapping set 3/6\n"
     ]
    },
    {
     "name": "stderr",
     "output_type": "stream",
     "text": [
      "2025/05/26 08:49:09 WARNING dspy.adapters.json_adapter: Failed to use structured output format, falling back to JSON mode.\n",
      "100%|██████████| 1/1 [00:00<00:00, 241.97it/s]\n"
     ]
    },
    {
     "name": "stdout",
     "output_type": "stream",
     "text": [
      "Bootstrapped 0 full traces after 0 examples for up to 1 rounds, amounting to 1 attempts.\n",
      "Bootstrapping set 4/6\n"
     ]
    },
    {
     "name": "stderr",
     "output_type": "stream",
     "text": [
      "2025/05/26 08:49:09 WARNING dspy.adapters.json_adapter: Failed to use structured output format, falling back to JSON mode.\n",
      "100%|██████████| 1/1 [00:00<00:00, 302.86it/s]\n"
     ]
    },
    {
     "name": "stdout",
     "output_type": "stream",
     "text": [
      "Bootstrapped 0 full traces after 0 examples for up to 1 rounds, amounting to 1 attempts.\n",
      "Bootstrapping set 5/6\n"
     ]
    },
    {
     "name": "stderr",
     "output_type": "stream",
     "text": [
      "2025/05/26 08:49:09 WARNING dspy.adapters.json_adapter: Failed to use structured output format, falling back to JSON mode.\n",
      "100%|██████████| 1/1 [00:00<00:00, 298.97it/s]\n"
     ]
    },
    {
     "name": "stdout",
     "output_type": "stream",
     "text": [
      "Bootstrapped 0 full traces after 0 examples for up to 1 rounds, amounting to 1 attempts.\n",
      "Bootstrapping set 6/6\n"
     ]
    },
    {
     "name": "stderr",
     "output_type": "stream",
     "text": [
      "2025/05/26 08:49:09 WARNING dspy.adapters.json_adapter: Failed to use structured output format, falling back to JSON mode.\n",
      "100%|██████████| 1/1 [00:00<00:00, 126.06it/s]\n",
      "2025/05/26 08:49:09 INFO dspy.teleprompt.mipro_optimizer_v2: \n",
      "==> STEP 2: PROPOSE INSTRUCTION CANDIDATES <==\n",
      "2025/05/26 08:49:09 INFO dspy.teleprompt.mipro_optimizer_v2: We will use the few-shot examples from the previous step, a generated dataset summary, a summary of the program code, and a randomly selected prompting tip to propose instructions.\n",
      "2025/05/26 08:49:10 INFO dspy.teleprompt.mipro_optimizer_v2: \n",
      "Proposing N=3 instructions...\n",
      "\n",
      "2025/05/26 08:49:10 INFO dspy.teleprompt.mipro_optimizer_v2: Proposed Instructions for Predictor 0:\n",
      "\n"
     ]
    },
    {
     "name": "stdout",
     "output_type": "stream",
     "text": [
      "Bootstrapped 0 full traces after 0 examples for up to 1 rounds, amounting to 1 attempts.\n",
      "class SummarizeSignature(dspy.Signature):\n",
      "    \"\"\"Summarize the provided user reviews.\n",
      "    # Role\n",
      "    You are an expert review summarizer. Your job is to create top-notch summaries of user reviews.\n",
      "    # Instructions\n",
      "    - Summarize the provided reviews\n",
      "    - Extract key information about what users like, dislike and potential idiosyncracies of the product that users reported\n",
      "    - Provide the summary in the specified language\n",
      "    \"\"\"\n",
      "    reviews = dspy.InputField(desc=\"All user reviews as a markdown list.\")\n",
      "    language = dspy.InputField(desc=\"The language code for the output summary (cs = czech or sk = slovak).\")\n",
      "    summary = dspy.OutputField(desc=\"A factual summary of user reviews.\")\n",
      "\n",
      "class SummaryStylerSignature(dspy.Signature):\n",
      "    \"\"\"Style the provided summary to optimize user engagement.\n",
      "    # Role\n",
      "    You are an expert in copy writing - specifically - writing engaging user review summaries.\n",
      "\n",
      "    # Instructions\n",
      "    - Make the provided information in the user summaries engaging and informative.\n",
      "    - Provide the summary in the specified language.\n",
      "    \"\"\"\n",
      "    reviews_summary = dspy.InputField(desc=\"Summarized user reviews.\")\n",
      "    language = dspy.InputField(desc=\"The language code for the output summary (cs = czech or sk = slovak).\")\n",
      "    summary = dspy.OutputField(desc=\"A persuasive summary of the reviews in the specified language.\")\n",
      "\n"
     ]
    },
    {
     "name": "stderr",
     "output_type": "stream",
     "text": [
      "2025/05/26 08:49:10 INFO dspy.teleprompt.mipro_optimizer_v2: 0: Summarize the provided user reviews.\n",
      "# Role\n",
      "You are an expert review summarizer. Your job is to create top-notch summaries of user reviews.\n",
      "# Instructions\n",
      "- Summarize the provided reviews\n",
      "- Extract key information about what users like, dislike and potential idiosyncracies of the product that users reported\n",
      "- Provide the summary in the specified language\n",
      "\n",
      "2025/05/26 08:49:10 INFO dspy.teleprompt.mipro_optimizer_v2: 1: You are an expert in review summarization and persuasive communication. Your task is to generate an engaging, concise summary of user reviews that captures the most important positive and negative aspects reported by users, as well as any unique or noteworthy comments. This summary will be used to influence potential customers' purchasing decisions, so it must highlight the key factors that impact guest impressions, such as cleanliness, spaciousness, location, noise levels, and staff helpfulness. The summary must be crafted in the specified language (Czech or Slovak) and should be compelling enough to sway undecided customers by emphasizing the most critical and appealing points from the reviews. Your success depends on accurately distilling the reviews' core insights while making the summary attractive and persuasive.\n",
      "\n",
      "2025/05/26 08:49:10 INFO dspy.teleprompt.mipro_optimizer_v2: 2: You are an expert review summarizer tasked with creating a high-impact, concise summary of user reviews for a product or service. Your goal is to generate a clear and factual summary that highlights what users appreciate, what issues they report, and any unique comments that could influence potential customers’ decisions. This summary must be perfectly tailored to the specified language (either Czech or Slovak). Imagine this summary will be used in a critical marketing campaign where a single well-crafted paragraph can determine whether a customer chooses this product or service. Your response should be precise, persuasive, and capture the core sentiments of the reviews to maximize engagement and trust. Carefully extract and condense the key points, emphasizing both positive aspects and concerns, so that the final summary provides a trustworthy and compelling overview that influences purchasing decisions.\n",
      "\n",
      "2025/05/26 08:49:10 INFO dspy.teleprompt.mipro_optimizer_v2: \n",
      "\n",
      "2025/05/26 08:49:10 INFO dspy.teleprompt.mipro_optimizer_v2: Proposed Instructions for Predictor 1:\n",
      "\n",
      "2025/05/26 08:49:10 INFO dspy.teleprompt.mipro_optimizer_v2: 0: Style the provided summary to optimize user engagement.\n",
      "# Role\n",
      "You are an expert in copy writing - specifically - writing engaging user review summaries.\n",
      "\n",
      "# Instructions\n",
      "- Make the provided information in the user summaries engaging and informative.\n",
      "- Provide the summary in the specified language.\n",
      "\n",
      "2025/05/26 08:49:10 INFO dspy.teleprompt.mipro_optimizer_v2: 1: Create a detailed and comprehensive prompt for a language model that instructs it to enhance an existing factual summary of user reviews, transforming it into an engaging, persuasive, and compelling narrative. The instruction should specify that the model acts as an expert copywriter specializing in review summaries, emphasizing the importance of making the summary both informative and captivating to maximize user engagement or purchase intent. It should highlight that the stylistic enhancement must be tailored to the specified language (Czech or Slovak), and that the output should be a polished, attention-grabbing version of the original summary, maintaining accuracy while increasing appeal. The instruction should be sufficiently detailed to guide the model in producing high-quality, persuasive summaries that effectively highlight key positive aspects and address potential concerns, ultimately encouraging positive user response.\n",
      "\n",
      "2025/05/26 08:49:10 INFO dspy.teleprompt.mipro_optimizer_v2: 2: Create a detailed and engaging instruction for a language model that guides it to generate a compelling, persuasive, and user-friendly summary of hotel reviews. The instruction should emphasize extracting key positive and negative aspects highlighted by guests, capturing unique or notable comments, and then stylizing the summary to maximize user engagement and purchase intent. The instruction must specify that the output should be clear, informative, and tailored to the target language, ensuring the final summary effectively influences potential customers by highlighting the most relevant and attractive features of the accommodation while maintaining authenticity and readability.\n",
      "\n",
      "2025/05/26 08:49:10 INFO dspy.teleprompt.mipro_optimizer_v2: \n",
      "\n",
      "2025/05/26 08:49:10 INFO dspy.teleprompt.mipro_optimizer_v2: ==> STEP 3: FINDING OPTIMAL PROMPT PARAMETERS <==\n",
      "2025/05/26 08:49:10 INFO dspy.teleprompt.mipro_optimizer_v2: We will evaluate the program over a series of trials with different combinations of instructions and few-shot examples to find the optimal combination using Bayesian Optimization.\n",
      "\n",
      "2025/05/26 08:49:10 INFO dspy.teleprompt.mipro_optimizer_v2: == Trial 1 / 20 - Full Evaluation of Default Program ==\n",
      "2025/05/26 08:49:10 WARNING dspy.adapters.json_adapter: Failed to use structured output format, falling back to JSON mode.\n",
      "2025/05/26 08:49:10 WARNING dspy.adapters.json_adapter: Failed to use structured output format, falling back to JSON mode.\n",
      "2025/05/26 08:49:10 WARNING dspy.adapters.json_adapter: Failed to use structured output format, falling back to JSON mode.\n"
     ]
    },
    {
     "name": "stdout",
     "output_type": "stream",
     "text": [
      "Average Metric: 3.00 / 3 (100.0%): 100%|██████████| 3/3 [00:00<00:00, 1050.41it/s]"
     ]
    },
    {
     "name": "stderr",
     "output_type": "stream",
     "text": [
      "2025/05/26 08:49:10 INFO dspy.evaluate.evaluate: Average Metric: 3.0 / 3 (100.0%)\n",
      "2025/05/26 08:49:10 INFO dspy.teleprompt.mipro_optimizer_v2: Default program score: 100.0\n",
      "\n",
      "/Users/tk/projects/review-summarizzer/.venv/lib/python3.11/site-packages/optuna/_experimental.py:31: ExperimentalWarning: Argument ``multivariate`` is an experimental feature. The interface can change in the future.\n",
      "  warnings.warn(\n",
      "2025/05/26 08:49:10 INFO dspy.teleprompt.mipro_optimizer_v2: ===== Trial 2 / 20 =====\n"
     ]
    },
    {
     "name": "stdout",
     "output_type": "stream",
     "text": [
      "\n",
      "  0%|          | 0/3 [00:00<?, ?it/s]"
     ]
    },
    {
     "name": "stderr",
     "output_type": "stream",
     "text": [
      "2025/05/26 08:49:16 WARNING dspy.adapters.json_adapter: Failed to use structured output format, falling back to JSON mode.\n",
      "2025/05/26 08:49:16 WARNING dspy.adapters.json_adapter: Failed to use structured output format, falling back to JSON mode.\n",
      "2025/05/26 08:49:17 WARNING dspy.adapters.json_adapter: Failed to use structured output format, falling back to JSON mode.\n"
     ]
    },
    {
     "name": "stdout",
     "output_type": "stream",
     "text": [
      "Average Metric: 3.00 / 3 (100.0%): 100%|██████████| 3/3 [00:09<00:00,  3.00s/it]"
     ]
    },
    {
     "name": "stderr",
     "output_type": "stream",
     "text": [
      "2025/05/26 08:49:19 INFO dspy.evaluate.evaluate: Average Metric: 3.0 / 3 (100.0%)\n",
      "2025/05/26 08:49:19 INFO dspy.teleprompt.mipro_optimizer_v2: Score: 100.0 with parameters ['Predictor 0: Instruction 1', 'Predictor 0: Few-Shot Set 3', 'Predictor 1: Instruction 2', 'Predictor 1: Few-Shot Set 0'].\n",
      "2025/05/26 08:49:19 INFO dspy.teleprompt.mipro_optimizer_v2: Scores so far: [100.0, 100.0]\n",
      "2025/05/26 08:49:19 INFO dspy.teleprompt.mipro_optimizer_v2: Best score so far: 100.0\n",
      "2025/05/26 08:49:19 INFO dspy.teleprompt.mipro_optimizer_v2: ========================\n",
      "\n",
      "\n",
      "2025/05/26 08:49:19 INFO dspy.teleprompt.mipro_optimizer_v2: ===== Trial 3 / 20 =====\n",
      "2025/05/26 08:49:19 WARNING dspy.adapters.json_adapter: Failed to use structured output format, falling back to JSON mode.\n",
      "2025/05/26 08:49:19 WARNING dspy.adapters.json_adapter: Failed to use structured output format, falling back to JSON mode.\n"
     ]
    },
    {
     "name": "stdout",
     "output_type": "stream",
     "text": [
      "\n",
      "  0%|          | 0/3 [00:00<?, ?it/s]"
     ]
    },
    {
     "name": "stderr",
     "output_type": "stream",
     "text": [
      "2025/05/26 08:49:19 WARNING dspy.adapters.json_adapter: Failed to use structured output format, falling back to JSON mode.\n"
     ]
    },
    {
     "name": "stdout",
     "output_type": "stream",
     "text": [
      "Average Metric: 3.00 / 3 (100.0%): 100%|██████████| 3/3 [00:00<00:00, 920.27it/s]"
     ]
    },
    {
     "name": "stderr",
     "output_type": "stream",
     "text": [
      "2025/05/26 08:49:19 INFO dspy.evaluate.evaluate: Average Metric: 3.0 / 3 (100.0%)\n",
      "2025/05/26 08:49:19 INFO dspy.teleprompt.mipro_optimizer_v2: Score: 100.0 with parameters ['Predictor 0: Instruction 1', 'Predictor 0: Few-Shot Set 5', 'Predictor 1: Instruction 2', 'Predictor 1: Few-Shot Set 2'].\n",
      "2025/05/26 08:49:19 INFO dspy.teleprompt.mipro_optimizer_v2: Scores so far: [100.0, 100.0, 100.0]\n",
      "2025/05/26 08:49:19 INFO dspy.teleprompt.mipro_optimizer_v2: Best score so far: 100.0\n",
      "2025/05/26 08:49:19 INFO dspy.teleprompt.mipro_optimizer_v2: ========================\n",
      "\n",
      "\n",
      "2025/05/26 08:49:19 INFO dspy.teleprompt.mipro_optimizer_v2: ===== Trial 4 / 20 =====\n"
     ]
    },
    {
     "name": "stdout",
     "output_type": "stream",
     "text": [
      "\n",
      "  0%|          | 0/3 [00:00<?, ?it/s]"
     ]
    },
    {
     "name": "stderr",
     "output_type": "stream",
     "text": [
      "2025/05/26 08:49:23 WARNING dspy.adapters.json_adapter: Failed to use structured output format, falling back to JSON mode.\n",
      "2025/05/26 08:49:24 WARNING dspy.adapters.json_adapter: Failed to use structured output format, falling back to JSON mode.\n",
      "2025/05/26 08:49:24 WARNING dspy.adapters.json_adapter: Failed to use structured output format, falling back to JSON mode.\n"
     ]
    },
    {
     "name": "stdout",
     "output_type": "stream",
     "text": [
      "Average Metric: 3.00 / 3 (100.0%): 100%|██████████| 3/3 [00:06<00:00,  2.25s/it]"
     ]
    },
    {
     "name": "stderr",
     "output_type": "stream",
     "text": [
      "2025/05/26 08:49:25 INFO dspy.evaluate.evaluate: Average Metric: 3.0 / 3 (100.0%)\n",
      "2025/05/26 08:49:25 INFO dspy.teleprompt.mipro_optimizer_v2: Score: 100.0 with parameters ['Predictor 0: Instruction 0', 'Predictor 0: Few-Shot Set 5', 'Predictor 1: Instruction 2', 'Predictor 1: Few-Shot Set 0'].\n",
      "2025/05/26 08:49:25 INFO dspy.teleprompt.mipro_optimizer_v2: Scores so far: [100.0, 100.0, 100.0, 100.0]\n",
      "2025/05/26 08:49:25 INFO dspy.teleprompt.mipro_optimizer_v2: Best score so far: 100.0\n",
      "2025/05/26 08:49:25 INFO dspy.teleprompt.mipro_optimizer_v2: ========================\n",
      "\n",
      "\n",
      "2025/05/26 08:49:25 INFO dspy.teleprompt.mipro_optimizer_v2: ===== Trial 5 / 20 =====\n"
     ]
    },
    {
     "name": "stdout",
     "output_type": "stream",
     "text": [
      "\n",
      "  0%|          | 0/3 [00:00<?, ?it/s]"
     ]
    },
    {
     "name": "stderr",
     "output_type": "stream",
     "text": [
      "2025/05/26 08:49:32 WARNING dspy.adapters.json_adapter: Failed to use structured output format, falling back to JSON mode.\n",
      "2025/05/26 08:49:32 WARNING dspy.adapters.json_adapter: Failed to use structured output format, falling back to JSON mode.\n",
      "2025/05/26 08:49:32 WARNING dspy.adapters.json_adapter: Failed to use structured output format, falling back to JSON mode.\n"
     ]
    },
    {
     "name": "stdout",
     "output_type": "stream",
     "text": [
      "Average Metric: 2.00 / 3 (66.7%): 100%|██████████| 3/3 [00:08<00:00,  2.93s/it] "
     ]
    },
    {
     "name": "stderr",
     "output_type": "stream",
     "text": [
      "2025/05/26 08:49:34 INFO dspy.evaluate.evaluate: Average Metric: 2.0 / 3 (66.7%)\n",
      "2025/05/26 08:49:34 INFO dspy.teleprompt.mipro_optimizer_v2: Score: 66.67 with parameters ['Predictor 0: Instruction 2', 'Predictor 0: Few-Shot Set 5', 'Predictor 1: Instruction 1', 'Predictor 1: Few-Shot Set 4'].\n",
      "2025/05/26 08:49:34 INFO dspy.teleprompt.mipro_optimizer_v2: Scores so far: [100.0, 100.0, 100.0, 100.0, 66.67]\n",
      "2025/05/26 08:49:34 INFO dspy.teleprompt.mipro_optimizer_v2: Best score so far: 100.0\n",
      "2025/05/26 08:49:34 INFO dspy.teleprompt.mipro_optimizer_v2: ========================\n",
      "\n",
      "\n",
      "2025/05/26 08:49:34 INFO dspy.teleprompt.mipro_optimizer_v2: ===== Trial 6 / 20 =====\n"
     ]
    },
    {
     "name": "stdout",
     "output_type": "stream",
     "text": [
      "\n",
      "  0%|          | 0/3 [00:00<?, ?it/s]"
     ]
    },
    {
     "name": "stderr",
     "output_type": "stream",
     "text": [
      "2025/05/26 08:49:38 WARNING dspy.adapters.json_adapter: Failed to use structured output format, falling back to JSON mode.\n",
      "2025/05/26 08:49:38 WARNING dspy.adapters.json_adapter: Failed to use structured output format, falling back to JSON mode.\n",
      "2025/05/26 08:49:38 WARNING dspy.adapters.json_adapter: Failed to use structured output format, falling back to JSON mode.\n"
     ]
    },
    {
     "name": "stdout",
     "output_type": "stream",
     "text": [
      "Average Metric: 3.00 / 3 (100.0%): 100%|██████████| 3/3 [00:07<00:00,  2.37s/it]"
     ]
    },
    {
     "name": "stderr",
     "output_type": "stream",
     "text": [
      "2025/05/26 08:49:41 INFO dspy.evaluate.evaluate: Average Metric: 3.0 / 3 (100.0%)\n",
      "2025/05/26 08:49:41 INFO dspy.teleprompt.mipro_optimizer_v2: Score: 100.0 with parameters ['Predictor 0: Instruction 2', 'Predictor 0: Few-Shot Set 5', 'Predictor 1: Instruction 2', 'Predictor 1: Few-Shot Set 2'].\n",
      "2025/05/26 08:49:41 INFO dspy.teleprompt.mipro_optimizer_v2: Scores so far: [100.0, 100.0, 100.0, 100.0, 66.67, 100.0]\n",
      "2025/05/26 08:49:41 INFO dspy.teleprompt.mipro_optimizer_v2: Best score so far: 100.0\n",
      "2025/05/26 08:49:41 INFO dspy.teleprompt.mipro_optimizer_v2: ========================\n",
      "\n",
      "\n",
      "2025/05/26 08:49:41 INFO dspy.teleprompt.mipro_optimizer_v2: ===== Trial 7 / 20 =====\n",
      "2025/05/26 08:49:41 WARNING dspy.adapters.json_adapter: Failed to use structured output format, falling back to JSON mode.\n",
      "2025/05/26 08:49:41 WARNING dspy.adapters.json_adapter: Failed to use structured output format, falling back to JSON mode.\n"
     ]
    },
    {
     "name": "stdout",
     "output_type": "stream",
     "text": [
      "\n"
     ]
    },
    {
     "name": "stderr",
     "output_type": "stream",
     "text": [
      "2025/05/26 08:49:41 WARNING dspy.adapters.json_adapter: Failed to use structured output format, falling back to JSON mode.\n"
     ]
    },
    {
     "name": "stdout",
     "output_type": "stream",
     "text": [
      "Average Metric: 3.00 / 3 (100.0%): 100%|██████████| 3/3 [00:00<00:00, 2109.81it/s]"
     ]
    },
    {
     "name": "stderr",
     "output_type": "stream",
     "text": [
      "2025/05/26 08:49:41 INFO dspy.evaluate.evaluate: Average Metric: 3.0 / 3 (100.0%)\n",
      "2025/05/26 08:49:41 INFO dspy.teleprompt.mipro_optimizer_v2: Score: 100.0 with parameters ['Predictor 0: Instruction 0', 'Predictor 0: Few-Shot Set 5', 'Predictor 1: Instruction 0', 'Predictor 1: Few-Shot Set 0'].\n",
      "2025/05/26 08:49:41 INFO dspy.teleprompt.mipro_optimizer_v2: Scores so far: [100.0, 100.0, 100.0, 100.0, 66.67, 100.0, 100.0]\n",
      "2025/05/26 08:49:41 INFO dspy.teleprompt.mipro_optimizer_v2: Best score so far: 100.0\n",
      "2025/05/26 08:49:41 INFO dspy.teleprompt.mipro_optimizer_v2: ========================\n",
      "\n",
      "\n",
      "2025/05/26 08:49:41 INFO dspy.teleprompt.mipro_optimizer_v2: ===== Trial 8 / 20 =====\n",
      "2025/05/26 08:49:41 WARNING dspy.adapters.json_adapter: Failed to use structured output format, falling back to JSON mode.\n"
     ]
    },
    {
     "name": "stdout",
     "output_type": "stream",
     "text": [
      "\n"
     ]
    },
    {
     "name": "stderr",
     "output_type": "stream",
     "text": [
      "2025/05/26 08:49:41 WARNING dspy.adapters.json_adapter: Failed to use structured output format, falling back to JSON mode.\n"
     ]
    },
    {
     "name": "stdout",
     "output_type": "stream",
     "text": [
      "  0%|          | 0/3 [00:00<?, ?it/s]"
     ]
    },
    {
     "name": "stderr",
     "output_type": "stream",
     "text": [
      "2025/05/26 08:49:41 WARNING dspy.adapters.json_adapter: Failed to use structured output format, falling back to JSON mode.\n"
     ]
    },
    {
     "name": "stdout",
     "output_type": "stream",
     "text": [
      "Average Metric: 3.00 / 3 (100.0%): 100%|██████████| 3/3 [00:00<00:00, 817.23it/s]"
     ]
    },
    {
     "name": "stderr",
     "output_type": "stream",
     "text": [
      "2025/05/26 08:49:41 INFO dspy.evaluate.evaluate: Average Metric: 3.0 / 3 (100.0%)\n",
      "2025/05/26 08:49:41 INFO dspy.teleprompt.mipro_optimizer_v2: Score: 100.0 with parameters ['Predictor 0: Instruction 1', 'Predictor 0: Few-Shot Set 2', 'Predictor 1: Instruction 2', 'Predictor 1: Few-Shot Set 1'].\n",
      "2025/05/26 08:49:41 INFO dspy.teleprompt.mipro_optimizer_v2: Scores so far: [100.0, 100.0, 100.0, 100.0, 66.67, 100.0, 100.0, 100.0]\n",
      "2025/05/26 08:49:41 INFO dspy.teleprompt.mipro_optimizer_v2: Best score so far: 100.0\n",
      "2025/05/26 08:49:41 INFO dspy.teleprompt.mipro_optimizer_v2: ========================\n",
      "\n",
      "\n",
      "2025/05/26 08:49:41 INFO dspy.teleprompt.mipro_optimizer_v2: ===== Trial 9 / 20 =====\n"
     ]
    },
    {
     "name": "stdout",
     "output_type": "stream",
     "text": [
      "\n",
      "  0%|          | 0/3 [00:00<?, ?it/s]"
     ]
    },
    {
     "name": "stderr",
     "output_type": "stream",
     "text": [
      "2025/05/26 08:49:45 WARNING dspy.adapters.json_adapter: Failed to use structured output format, falling back to JSON mode.\n",
      "2025/05/26 08:49:45 WARNING dspy.adapters.json_adapter: Failed to use structured output format, falling back to JSON mode.\n",
      "2025/05/26 08:49:46 WARNING dspy.adapters.json_adapter: Failed to use structured output format, falling back to JSON mode.\n"
     ]
    },
    {
     "name": "stdout",
     "output_type": "stream",
     "text": [
      "Average Metric: 3.00 / 3 (100.0%): 100%|██████████| 3/3 [00:06<00:00,  2.06s/it]"
     ]
    },
    {
     "name": "stderr",
     "output_type": "stream",
     "text": [
      "2025/05/26 08:49:48 INFO dspy.evaluate.evaluate: Average Metric: 3.0 / 3 (100.0%)\n",
      "2025/05/26 08:49:48 INFO dspy.teleprompt.mipro_optimizer_v2: Score: 100.0 with parameters ['Predictor 0: Instruction 1', 'Predictor 0: Few-Shot Set 0', 'Predictor 1: Instruction 0', 'Predictor 1: Few-Shot Set 0'].\n",
      "2025/05/26 08:49:48 INFO dspy.teleprompt.mipro_optimizer_v2: Scores so far: [100.0, 100.0, 100.0, 100.0, 66.67, 100.0, 100.0, 100.0, 100.0]\n",
      "2025/05/26 08:49:48 INFO dspy.teleprompt.mipro_optimizer_v2: Best score so far: 100.0\n",
      "2025/05/26 08:49:48 INFO dspy.teleprompt.mipro_optimizer_v2: ========================\n",
      "\n",
      "\n",
      "2025/05/26 08:49:48 INFO dspy.teleprompt.mipro_optimizer_v2: ===== Trial 10 / 20 =====\n"
     ]
    },
    {
     "name": "stdout",
     "output_type": "stream",
     "text": [
      "\n",
      "  0%|          | 0/3 [00:00<?, ?it/s]"
     ]
    },
    {
     "name": "stderr",
     "output_type": "stream",
     "text": [
      "2025/05/26 08:49:52 WARNING dspy.adapters.json_adapter: Failed to use structured output format, falling back to JSON mode.\n",
      "2025/05/26 08:49:53 WARNING dspy.adapters.json_adapter: Failed to use structured output format, falling back to JSON mode.\n",
      "2025/05/26 08:49:53 WARNING dspy.adapters.json_adapter: Failed to use structured output format, falling back to JSON mode.\n"
     ]
    },
    {
     "name": "stdout",
     "output_type": "stream",
     "text": [
      "Average Metric: 2.00 / 3 (66.7%): 100%|██████████| 3/3 [00:07<00:00,  2.36s/it] "
     ]
    },
    {
     "name": "stderr",
     "output_type": "stream",
     "text": [
      "2025/05/26 08:49:55 INFO dspy.evaluate.evaluate: Average Metric: 2.0 / 3 (66.7%)\n",
      "2025/05/26 08:49:55 INFO dspy.teleprompt.mipro_optimizer_v2: Score: 66.67 with parameters ['Predictor 0: Instruction 0', 'Predictor 0: Few-Shot Set 0', 'Predictor 1: Instruction 1', 'Predictor 1: Few-Shot Set 4'].\n",
      "2025/05/26 08:49:55 INFO dspy.teleprompt.mipro_optimizer_v2: Scores so far: [100.0, 100.0, 100.0, 100.0, 66.67, 100.0, 100.0, 100.0, 100.0, 66.67]\n",
      "2025/05/26 08:49:55 INFO dspy.teleprompt.mipro_optimizer_v2: Best score so far: 100.0\n",
      "2025/05/26 08:49:55 INFO dspy.teleprompt.mipro_optimizer_v2: =========================\n",
      "\n",
      "\n",
      "2025/05/26 08:49:55 INFO dspy.teleprompt.mipro_optimizer_v2: ===== Trial 11 / 20 =====\n",
      "2025/05/26 08:49:55 WARNING dspy.adapters.json_adapter: Failed to use structured output format, falling back to JSON mode.\n",
      "2025/05/26 08:49:55 WARNING dspy.adapters.json_adapter: Failed to use structured output format, falling back to JSON mode.\n"
     ]
    },
    {
     "name": "stdout",
     "output_type": "stream",
     "text": [
      "\n"
     ]
    },
    {
     "name": "stderr",
     "output_type": "stream",
     "text": [
      "2025/05/26 08:49:55 WARNING dspy.adapters.json_adapter: Failed to use structured output format, falling back to JSON mode.\n"
     ]
    },
    {
     "name": "stdout",
     "output_type": "stream",
     "text": [
      "Average Metric: 3.00 / 3 (100.0%): 100%|██████████| 3/3 [00:00<00:00, 968.96it/s] "
     ]
    },
    {
     "name": "stderr",
     "output_type": "stream",
     "text": [
      "2025/05/26 08:49:55 INFO dspy.evaluate.evaluate: Average Metric: 3.0 / 3 (100.0%)\n",
      "2025/05/26 08:49:55 INFO dspy.teleprompt.mipro_optimizer_v2: Score: 100.0 with parameters ['Predictor 0: Instruction 0', 'Predictor 0: Few-Shot Set 0', 'Predictor 1: Instruction 0', 'Predictor 1: Few-Shot Set 2'].\n",
      "2025/05/26 08:49:55 INFO dspy.teleprompt.mipro_optimizer_v2: Scores so far: [100.0, 100.0, 100.0, 100.0, 66.67, 100.0, 100.0, 100.0, 100.0, 66.67, 100.0]\n",
      "2025/05/26 08:49:55 INFO dspy.teleprompt.mipro_optimizer_v2: Best score so far: 100.0\n",
      "2025/05/26 08:49:55 INFO dspy.teleprompt.mipro_optimizer_v2: =========================\n",
      "\n",
      "\n",
      "2025/05/26 08:49:55 INFO dspy.teleprompt.mipro_optimizer_v2: ===== Trial 12 / 20 =====\n",
      "2025/05/26 08:49:55 WARNING dspy.adapters.json_adapter: Failed to use structured output format, falling back to JSON mode.\n"
     ]
    },
    {
     "name": "stdout",
     "output_type": "stream",
     "text": [
      "\n"
     ]
    },
    {
     "name": "stderr",
     "output_type": "stream",
     "text": [
      "2025/05/26 08:49:55 WARNING dspy.adapters.json_adapter: Failed to use structured output format, falling back to JSON mode.\n"
     ]
    },
    {
     "name": "stdout",
     "output_type": "stream",
     "text": [
      "  0%|          | 0/3 [00:00<?, ?it/s]"
     ]
    },
    {
     "name": "stderr",
     "output_type": "stream",
     "text": [
      "2025/05/26 08:49:55 WARNING dspy.adapters.json_adapter: Failed to use structured output format, falling back to JSON mode.\n"
     ]
    },
    {
     "name": "stdout",
     "output_type": "stream",
     "text": [
      "Average Metric: 3.00 / 3 (100.0%): 100%|██████████| 3/3 [00:00<00:00, 718.78it/s]"
     ]
    },
    {
     "name": "stderr",
     "output_type": "stream",
     "text": [
      "2025/05/26 08:49:55 INFO dspy.evaluate.evaluate: Average Metric: 3.0 / 3 (100.0%)\n",
      "2025/05/26 08:49:55 INFO dspy.teleprompt.mipro_optimizer_v2: Score: 100.0 with parameters ['Predictor 0: Instruction 1', 'Predictor 0: Few-Shot Set 3', 'Predictor 1: Instruction 2', 'Predictor 1: Few-Shot Set 3'].\n",
      "2025/05/26 08:49:55 INFO dspy.teleprompt.mipro_optimizer_v2: Scores so far: [100.0, 100.0, 100.0, 100.0, 66.67, 100.0, 100.0, 100.0, 100.0, 66.67, 100.0, 100.0]\n",
      "2025/05/26 08:49:55 INFO dspy.teleprompt.mipro_optimizer_v2: Best score so far: 100.0\n"
     ]
    },
    {
     "name": "stdout",
     "output_type": "stream",
     "text": [
      "\n"
     ]
    },
    {
     "name": "stderr",
     "output_type": "stream",
     "text": [
      "2025/05/26 08:49:55 INFO dspy.teleprompt.mipro_optimizer_v2: =========================\n",
      "\n",
      "\n",
      "2025/05/26 08:49:55 INFO dspy.teleprompt.mipro_optimizer_v2: ===== Trial 13 / 20 =====\n",
      "2025/05/26 08:49:55 WARNING dspy.adapters.json_adapter: Failed to use structured output format, falling back to JSON mode.\n",
      "2025/05/26 08:49:55 WARNING dspy.adapters.json_adapter: Failed to use structured output format, falling back to JSON mode.\n",
      "2025/05/26 08:49:55 WARNING dspy.adapters.json_adapter: Failed to use structured output format, falling back to JSON mode.\n"
     ]
    },
    {
     "name": "stdout",
     "output_type": "stream",
     "text": [
      "Average Metric: 2.00 / 3 (66.7%): 100%|██████████| 3/3 [00:00<00:00, 881.09it/s]"
     ]
    },
    {
     "name": "stderr",
     "output_type": "stream",
     "text": [
      "2025/05/26 08:49:55 INFO dspy.evaluate.evaluate: Average Metric: 2.0 / 3 (66.7%)\n",
      "2025/05/26 08:49:55 INFO dspy.teleprompt.mipro_optimizer_v2: Score: 66.67 with parameters ['Predictor 0: Instruction 0', 'Predictor 0: Few-Shot Set 3', 'Predictor 1: Instruction 1', 'Predictor 1: Few-Shot Set 0'].\n",
      "2025/05/26 08:49:55 INFO dspy.teleprompt.mipro_optimizer_v2: Scores so far: [100.0, 100.0, 100.0, 100.0, 66.67, 100.0, 100.0, 100.0, 100.0, 66.67, 100.0, 100.0, 66.67]\n",
      "2025/05/26 08:49:55 INFO dspy.teleprompt.mipro_optimizer_v2: Best score so far: 100.0\n"
     ]
    },
    {
     "name": "stdout",
     "output_type": "stream",
     "text": [
      "\n"
     ]
    },
    {
     "name": "stderr",
     "output_type": "stream",
     "text": [
      "2025/05/26 08:49:55 INFO dspy.teleprompt.mipro_optimizer_v2: =========================\n",
      "\n",
      "\n",
      "2025/05/26 08:49:55 INFO dspy.teleprompt.mipro_optimizer_v2: ===== Trial 14 / 20 =====\n",
      "2025/05/26 08:49:55 WARNING dspy.adapters.json_adapter: Failed to use structured output format, falling back to JSON mode.\n",
      "2025/05/26 08:49:55 WARNING dspy.adapters.json_adapter: Failed to use structured output format, falling back to JSON mode.\n"
     ]
    },
    {
     "name": "stdout",
     "output_type": "stream",
     "text": [
      "  0%|          | 0/3 [00:00<?, ?it/s]"
     ]
    },
    {
     "name": "stderr",
     "output_type": "stream",
     "text": [
      "2025/05/26 08:49:55 WARNING dspy.adapters.json_adapter: Failed to use structured output format, falling back to JSON mode.\n"
     ]
    },
    {
     "name": "stdout",
     "output_type": "stream",
     "text": [
      "Average Metric: 3.00 / 3 (100.0%): 100%|██████████| 3/3 [00:00<00:00, 1037.34it/s]"
     ]
    },
    {
     "name": "stderr",
     "output_type": "stream",
     "text": [
      "2025/05/26 08:49:55 INFO dspy.evaluate.evaluate: Average Metric: 3.0 / 3 (100.0%)\n",
      "2025/05/26 08:49:55 INFO dspy.teleprompt.mipro_optimizer_v2: Score: 100.0 with parameters ['Predictor 0: Instruction 1', 'Predictor 0: Few-Shot Set 3', 'Predictor 1: Instruction 2', 'Predictor 1: Few-Shot Set 0'].\n",
      "2025/05/26 08:49:55 INFO dspy.teleprompt.mipro_optimizer_v2: Scores so far: [100.0, 100.0, 100.0, 100.0, 66.67, 100.0, 100.0, 100.0, 100.0, 66.67, 100.0, 100.0, 66.67, 100.0]\n",
      "2025/05/26 08:49:55 INFO dspy.teleprompt.mipro_optimizer_v2: Best score so far: 100.0\n",
      "2025/05/26 08:49:55 INFO dspy.teleprompt.mipro_optimizer_v2: =========================\n",
      "\n",
      "\n",
      "2025/05/26 08:49:55 INFO dspy.teleprompt.mipro_optimizer_v2: ===== Trial 15 / 20 =====\n",
      "2025/05/26 08:49:55 WARNING dspy.adapters.json_adapter: Failed to use structured output format, falling back to JSON mode.\n",
      "2025/05/26 08:49:55 WARNING dspy.adapters.json_adapter: Failed to use structured output format, falling back to JSON mode.\n"
     ]
    },
    {
     "name": "stdout",
     "output_type": "stream",
     "text": [
      "\n"
     ]
    },
    {
     "name": "stderr",
     "output_type": "stream",
     "text": [
      "2025/05/26 08:49:55 WARNING dspy.adapters.json_adapter: Failed to use structured output format, falling back to JSON mode.\n"
     ]
    },
    {
     "name": "stdout",
     "output_type": "stream",
     "text": [
      "Average Metric: 3.00 / 3 (100.0%): 100%|██████████| 3/3 [00:00<00:00, 1646.55it/s]"
     ]
    },
    {
     "name": "stderr",
     "output_type": "stream",
     "text": [
      "2025/05/26 08:49:55 INFO dspy.evaluate.evaluate: Average Metric: 3.0 / 3 (100.0%)\n",
      "2025/05/26 08:49:55 INFO dspy.teleprompt.mipro_optimizer_v2: Score: 100.0 with parameters ['Predictor 0: Instruction 0', 'Predictor 0: Few-Shot Set 4', 'Predictor 1: Instruction 0', 'Predictor 1: Few-Shot Set 5'].\n",
      "2025/05/26 08:49:55 INFO dspy.teleprompt.mipro_optimizer_v2: Scores so far: [100.0, 100.0, 100.0, 100.0, 66.67, 100.0, 100.0, 100.0, 100.0, 66.67, 100.0, 100.0, 66.67, 100.0, 100.0]\n",
      "2025/05/26 08:49:55 INFO dspy.teleprompt.mipro_optimizer_v2: Best score so far: 100.0\n",
      "2025/05/26 08:49:55 INFO dspy.teleprompt.mipro_optimizer_v2: =========================\n",
      "\n",
      "\n",
      "2025/05/26 08:49:55 INFO dspy.teleprompt.mipro_optimizer_v2: ===== Trial 16 / 20 =====\n"
     ]
    },
    {
     "name": "stdout",
     "output_type": "stream",
     "text": [
      "\n",
      "  0%|          | 0/3 [00:00<?, ?it/s]"
     ]
    },
    {
     "name": "stderr",
     "output_type": "stream",
     "text": [
      "2025/05/26 08:49:59 WARNING dspy.adapters.json_adapter: Failed to use structured output format, falling back to JSON mode.\n",
      "2025/05/26 08:49:59 WARNING dspy.adapters.json_adapter: Failed to use structured output format, falling back to JSON mode.\n"
     ]
    },
    {
     "name": "stdout",
     "output_type": "stream",
     "text": [
      "Average Metric: 2.00 / 2 (100.0%):  33%|███▎      | 1/3 [00:05<00:10,  5.30s/it]"
     ]
    },
    {
     "name": "stderr",
     "output_type": "stream",
     "text": [
      "2025/05/26 08:50:06 WARNING dspy.adapters.json_adapter: Failed to use structured output format, falling back to JSON mode.\n"
     ]
    },
    {
     "name": "stdout",
     "output_type": "stream",
     "text": [
      "Average Metric: 3.00 / 3 (100.0%): 100%|██████████| 3/3 [00:13<00:00,  4.39s/it]"
     ]
    },
    {
     "name": "stderr",
     "output_type": "stream",
     "text": [
      "2025/05/26 08:50:08 INFO dspy.evaluate.evaluate: Average Metric: 3.0 / 3 (100.0%)\n",
      "2025/05/26 08:50:08 INFO dspy.teleprompt.mipro_optimizer_v2: Score: 100.0 with parameters ['Predictor 0: Instruction 2', 'Predictor 0: Few-Shot Set 2', 'Predictor 1: Instruction 0', 'Predictor 1: Few-Shot Set 0'].\n",
      "2025/05/26 08:50:08 INFO dspy.teleprompt.mipro_optimizer_v2: Scores so far: [100.0, 100.0, 100.0, 100.0, 66.67, 100.0, 100.0, 100.0, 100.0, 66.67, 100.0, 100.0, 66.67, 100.0, 100.0, 100.0]\n",
      "2025/05/26 08:50:08 INFO dspy.teleprompt.mipro_optimizer_v2: Best score so far: 100.0\n",
      "2025/05/26 08:50:08 INFO dspy.teleprompt.mipro_optimizer_v2: =========================\n",
      "\n",
      "\n",
      "2025/05/26 08:50:08 INFO dspy.teleprompt.mipro_optimizer_v2: ===== Trial 17 / 20 =====\n",
      "2025/05/26 08:50:08 WARNING dspy.adapters.json_adapter: Failed to use structured output format, falling back to JSON mode.\n",
      "2025/05/26 08:50:08 WARNING dspy.adapters.json_adapter: Failed to use structured output format, falling back to JSON mode.\n"
     ]
    },
    {
     "name": "stdout",
     "output_type": "stream",
     "text": [
      "\n"
     ]
    },
    {
     "name": "stderr",
     "output_type": "stream",
     "text": [
      "2025/05/26 08:50:08 WARNING dspy.adapters.json_adapter: Failed to use structured output format, falling back to JSON mode.\n"
     ]
    },
    {
     "name": "stdout",
     "output_type": "stream",
     "text": [
      "Average Metric: 3.00 / 3 (100.0%): 100%|██████████| 3/3 [00:00<00:00, 1496.18it/s]"
     ]
    },
    {
     "name": "stderr",
     "output_type": "stream",
     "text": [
      "2025/05/26 08:50:08 INFO dspy.evaluate.evaluate: Average Metric: 3.0 / 3 (100.0%)\n",
      "2025/05/26 08:50:08 INFO dspy.teleprompt.mipro_optimizer_v2: Score: 100.0 with parameters ['Predictor 0: Instruction 1', 'Predictor 0: Few-Shot Set 1', 'Predictor 1: Instruction 2', 'Predictor 1: Few-Shot Set 5'].\n",
      "2025/05/26 08:50:08 INFO dspy.teleprompt.mipro_optimizer_v2: Scores so far: [100.0, 100.0, 100.0, 100.0, 66.67, 100.0, 100.0, 100.0, 100.0, 66.67, 100.0, 100.0, 66.67, 100.0, 100.0, 100.0, 100.0]\n",
      "2025/05/26 08:50:08 INFO dspy.teleprompt.mipro_optimizer_v2: Best score so far: 100.0\n",
      "2025/05/26 08:50:08 INFO dspy.teleprompt.mipro_optimizer_v2: =========================\n",
      "\n",
      "\n",
      "2025/05/26 08:50:08 INFO dspy.teleprompt.mipro_optimizer_v2: ===== Trial 18 / 20 =====\n",
      "2025/05/26 08:50:08 WARNING dspy.adapters.json_adapter: Failed to use structured output format, falling back to JSON mode.\n",
      "2025/05/26 08:50:08 WARNING dspy.adapters.json_adapter: Failed to use structured output format, falling back to JSON mode.\n"
     ]
    },
    {
     "name": "stdout",
     "output_type": "stream",
     "text": [
      "\n"
     ]
    },
    {
     "name": "stderr",
     "output_type": "stream",
     "text": [
      "2025/05/26 08:50:08 WARNING dspy.adapters.json_adapter: Failed to use structured output format, falling back to JSON mode.\n"
     ]
    },
    {
     "name": "stdout",
     "output_type": "stream",
     "text": [
      "Average Metric: 3.00 / 3 (100.0%): 100%|██████████| 3/3 [00:00<00:00, 1843.11it/s]"
     ]
    },
    {
     "name": "stderr",
     "output_type": "stream",
     "text": [
      "2025/05/26 08:50:08 INFO dspy.evaluate.evaluate: Average Metric: 3.0 / 3 (100.0%)\n",
      "2025/05/26 08:50:08 INFO dspy.teleprompt.mipro_optimizer_v2: Score: 100.0 with parameters ['Predictor 0: Instruction 0', 'Predictor 0: Few-Shot Set 0', 'Predictor 1: Instruction 0', 'Predictor 1: Few-Shot Set 0'].\n",
      "2025/05/26 08:50:08 INFO dspy.teleprompt.mipro_optimizer_v2: Scores so far: [100.0, 100.0, 100.0, 100.0, 66.67, 100.0, 100.0, 100.0, 100.0, 66.67, 100.0, 100.0, 66.67, 100.0, 100.0, 100.0, 100.0, 100.0]\n",
      "2025/05/26 08:50:08 INFO dspy.teleprompt.mipro_optimizer_v2: Best score so far: 100.0\n",
      "2025/05/26 08:50:08 INFO dspy.teleprompt.mipro_optimizer_v2: =========================\n",
      "\n",
      "\n",
      "2025/05/26 08:50:08 INFO dspy.teleprompt.mipro_optimizer_v2: ===== Trial 19 / 20 =====\n",
      "2025/05/26 08:50:08 WARNING dspy.adapters.json_adapter: Failed to use structured output format, falling back to JSON mode.\n",
      "2025/05/26 08:50:08 WARNING dspy.adapters.json_adapter: Failed to use structured output format, falling back to JSON mode.\n"
     ]
    },
    {
     "name": "stdout",
     "output_type": "stream",
     "text": [
      "\n"
     ]
    },
    {
     "name": "stderr",
     "output_type": "stream",
     "text": [
      "2025/05/26 08:50:08 WARNING dspy.adapters.json_adapter: Failed to use structured output format, falling back to JSON mode.\n"
     ]
    },
    {
     "name": "stdout",
     "output_type": "stream",
     "text": [
      "Average Metric: 3.00 / 3 (100.0%): 100%|██████████| 3/3 [00:00<00:00, 2300.35it/s]"
     ]
    },
    {
     "name": "stderr",
     "output_type": "stream",
     "text": [
      "2025/05/26 08:50:08 INFO dspy.evaluate.evaluate: Average Metric: 3.0 / 3 (100.0%)\n",
      "2025/05/26 08:50:08 INFO dspy.teleprompt.mipro_optimizer_v2: Score: 100.0 with parameters ['Predictor 0: Instruction 1', 'Predictor 0: Few-Shot Set 3', 'Predictor 1: Instruction 0', 'Predictor 1: Few-Shot Set 1'].\n",
      "2025/05/26 08:50:08 INFO dspy.teleprompt.mipro_optimizer_v2: Scores so far: [100.0, 100.0, 100.0, 100.0, 66.67, 100.0, 100.0, 100.0, 100.0, 66.67, 100.0, 100.0, 66.67, 100.0, 100.0, 100.0, 100.0, 100.0, 100.0]\n",
      "2025/05/26 08:50:08 INFO dspy.teleprompt.mipro_optimizer_v2: Best score so far: 100.0\n",
      "2025/05/26 08:50:08 INFO dspy.teleprompt.mipro_optimizer_v2: =========================\n",
      "\n",
      "\n",
      "2025/05/26 08:50:08 INFO dspy.teleprompt.mipro_optimizer_v2: ===== Trial 20 / 20 =====\n",
      "2025/05/26 08:50:08 WARNING dspy.adapters.json_adapter: Failed to use structured output format, falling back to JSON mode.\n"
     ]
    },
    {
     "name": "stdout",
     "output_type": "stream",
     "text": [
      "\n"
     ]
    },
    {
     "name": "stderr",
     "output_type": "stream",
     "text": [
      "2025/05/26 08:50:08 WARNING dspy.adapters.json_adapter: Failed to use structured output format, falling back to JSON mode.\n"
     ]
    },
    {
     "name": "stdout",
     "output_type": "stream",
     "text": [
      "Average Metric: 1.00 / 1 (100.0%):   0%|          | 0/3 [00:00<?, ?it/s]"
     ]
    },
    {
     "name": "stderr",
     "output_type": "stream",
     "text": [
      "2025/05/26 08:50:08 WARNING dspy.adapters.json_adapter: Failed to use structured output format, falling back to JSON mode.\n"
     ]
    },
    {
     "name": "stdout",
     "output_type": "stream",
     "text": [
      "Average Metric: 3.00 / 3 (100.0%): 100%|██████████| 3/3 [00:00<00:00, 999.36it/s]"
     ]
    },
    {
     "name": "stderr",
     "output_type": "stream",
     "text": [
      "2025/05/26 08:50:08 INFO dspy.evaluate.evaluate: Average Metric: 3.0 / 3 (100.0%)\n",
      "2025/05/26 08:50:08 INFO dspy.teleprompt.mipro_optimizer_v2: Score: 100.0 with parameters ['Predictor 0: Instruction 2', 'Predictor 0: Few-Shot Set 3', 'Predictor 1: Instruction 2', 'Predictor 1: Few-Shot Set 4'].\n",
      "2025/05/26 08:50:08 INFO dspy.teleprompt.mipro_optimizer_v2: Scores so far: [100.0, 100.0, 100.0, 100.0, 66.67, 100.0, 100.0, 100.0, 100.0, 66.67, 100.0, 100.0, 66.67, 100.0, 100.0, 100.0, 100.0, 100.0, 100.0, 100.0]\n",
      "2025/05/26 08:50:08 INFO dspy.teleprompt.mipro_optimizer_v2: Best score so far: 100.0\n",
      "2025/05/26 08:50:08 INFO dspy.teleprompt.mipro_optimizer_v2: =========================\n",
      "\n",
      "\n",
      "2025/05/26 08:50:08 INFO dspy.teleprompt.mipro_optimizer_v2: ===== Trial 21 / 20 =====\n",
      "2025/05/26 08:50:08 WARNING dspy.adapters.json_adapter: Failed to use structured output format, falling back to JSON mode.\n"
     ]
    },
    {
     "name": "stdout",
     "output_type": "stream",
     "text": [
      "\n"
     ]
    },
    {
     "name": "stderr",
     "output_type": "stream",
     "text": [
      "2025/05/26 08:50:08 WARNING dspy.adapters.json_adapter: Failed to use structured output format, falling back to JSON mode.\n"
     ]
    },
    {
     "name": "stdout",
     "output_type": "stream",
     "text": [
      "  0%|          | 0/3 [00:00<?, ?it/s]"
     ]
    },
    {
     "name": "stderr",
     "output_type": "stream",
     "text": [
      "2025/05/26 08:50:08 WARNING dspy.adapters.json_adapter: Failed to use structured output format, falling back to JSON mode.\n"
     ]
    },
    {
     "name": "stdout",
     "output_type": "stream",
     "text": [
      "Average Metric: 3.00 / 3 (100.0%): 100%|██████████| 3/3 [00:00<00:00, 1338.04it/s]"
     ]
    },
    {
     "name": "stderr",
     "output_type": "stream",
     "text": [
      "2025/05/26 08:50:08 INFO dspy.evaluate.evaluate: Average Metric: 3.0 / 3 (100.0%)\n",
      "2025/05/26 08:50:08 INFO dspy.teleprompt.mipro_optimizer_v2: Score: 100.0 with parameters ['Predictor 0: Instruction 0', 'Predictor 0: Few-Shot Set 3', 'Predictor 1: Instruction 2', 'Predictor 1: Few-Shot Set 1'].\n",
      "2025/05/26 08:50:08 INFO dspy.teleprompt.mipro_optimizer_v2: Scores so far: [100.0, 100.0, 100.0, 100.0, 66.67, 100.0, 100.0, 100.0, 100.0, 66.67, 100.0, 100.0, 66.67, 100.0, 100.0, 100.0, 100.0, 100.0, 100.0, 100.0, 100.0]\n",
      "2025/05/26 08:50:08 INFO dspy.teleprompt.mipro_optimizer_v2: Best score so far: 100.0\n",
      "2025/05/26 08:50:08 INFO dspy.teleprompt.mipro_optimizer_v2: =========================\n",
      "\n",
      "\n",
      "2025/05/26 08:50:08 INFO dspy.teleprompt.mipro_optimizer_v2: Returning best identified program with score 100.0!\n"
     ]
    },
    {
     "name": "stdout",
     "output_type": "stream",
     "text": [
      "\n"
     ]
    }
   ],
   "source": [
    "# 5. Run the Optimizer (SIMBA or MIPROv2)\n",
    "optimizer = dspy.MIPROv2(\n",
    "    metric=llm_judge_metric,\n",
    "    num_threads=4,\n",
    "    max_bootstrapped_demos=2,\n",
    "    auto=\"light\"\n",
    ")\n",
    "\n",
    "# Compile (optimize) the program\n",
    "optimized_summarizer = optimizer.compile(\n",
    "    ReviewSummarizer(),\n",
    "    trainset=trainset,\n",
    "    requires_permission_to_run=False\n",
    ")"
   ]
  },
  {
   "cell_type": "code",
   "execution_count": 19,
   "metadata": {},
   "outputs": [
    {
     "name": "stdout",
     "output_type": "stream",
     "text": [
      "Czech Summary: Objevte jednoduchost a intuitivnost naší aplikace, která vám umožní snadno a rychle zvládnout vaše úkoly. Díky naší rychlé a ochotné zákaznické podpoře získáte vždy potřebnou pomoc. Přestože některé funkce chybí ve srovnání s konkurencí, naše řešení nabízí skvělý základ pro vaše každodenní použití a neustále se vyvíjí, aby vám přineslo ještě více hodnoty.\n",
      "\n",
      "Slovak Summary: Objavte jednoduchú a intuitívnu aplikáciu, ktorá vám uľahčí každodenné úlohy. Rýchla a efektívna podpora zákazníkov vám zabezpečí pokoj na duši. Hoci niektoré funkcie chýbajú v porovnaní s konkurenciou, jej jednoduché ovládanie a spoľahlivosť ju robia skvelou voľbou pre tých, ktorí hľadajú efektívne riešenie s ľahkým používaním.\n"
     ]
    }
   ],
   "source": [
    "# 4. Test the Optimized Program\n",
    "test_reviews = [\n",
    "    \"The app is easy to use and very intuitive.\",\n",
    "    \"Customer support was quick to respond.\",\n",
    "    \"Some features are missing compared to competitors.\"\n",
    "]\n",
    "\n",
    "# Test Czech\n",
    "czech_result = optimized_summarizer(\n",
    "    reviews=\"\\n\".join(test_reviews),\n",
    "    language=SupportedLanguage.CZECH\n",
    ")\n",
    "print(\"Czech Summary:\", czech_result.summary)\n",
    "\n",
    "# Test Slovak\n",
    "slovak_result = optimized_summarizer(\n",
    "    reviews=\"\\n\".join(test_reviews),\n",
    "    language=SupportedLanguage.SLOVAK\n",
    ")\n",
    "print(\"\\nSlovak Summary:\", slovak_result.summary)"
   ]
  },
  {
   "cell_type": "code",
   "execution_count": 20,
   "metadata": {},
   "outputs": [
    {
     "name": "stdout",
     "output_type": "stream",
     "text": [
      "\n",
      "\n",
      "\n",
      "\n",
      "\u001b[34m[2025-05-26T08:52:54.870322]\u001b[0m\n",
      "\n",
      "\u001b[31mSystem message:\u001b[0m\n",
      "\n",
      "Your input fields are:\n",
      "1. `reviews` (str): All user reviews as a markdown list.\n",
      "2. `language` (str): The language code for the output summary (cs = czech or sk = slovak).\n",
      "Your output fields are:\n",
      "1. `summary` (str): A factual summary of user reviews.\n",
      "All interactions will be structured in the following way, with the appropriate values filled in.\n",
      "\n",
      "[[ ## reviews ## ]]\n",
      "{reviews}\n",
      "\n",
      "[[ ## language ## ]]\n",
      "{language}\n",
      "\n",
      "[[ ## summary ## ]]\n",
      "{summary}\n",
      "\n",
      "[[ ## completed ## ]]\n",
      "In adhering to this structure, your objective is: \n",
      "        Summarize the provided user reviews.\n",
      "        # Role\n",
      "        You are an expert review summarizer. Your job is to create top-notch summaries of user reviews.\n",
      "        # Instructions\n",
      "        - Summarize the provided reviews\n",
      "        - Extract key information about what users like, dislike and potential idiosyncracies of the product that users reported\n",
      "        - Provide the summary in the specified language\n",
      "\n",
      "\n",
      "\u001b[31mUser message:\u001b[0m\n",
      "\n",
      "[[ ## reviews ## ]]\n",
      "The app is easy to use and very intuitive.\n",
      "Customer support was quick to respond.\n",
      "Some features are missing compared to competitors.\n",
      "\n",
      "[[ ## language ## ]]\n",
      "sk\n",
      "\n",
      "Respond with the corresponding output fields, starting with the field `[[ ## summary ## ]]`, and then ending with the marker for `[[ ## completed ## ]]`.\n",
      "\n",
      "\n",
      "\u001b[31mResponse:\u001b[0m\n",
      "\n",
      "\u001b[32m[[ ## summary ## ]]\n",
      "Aplikácia je jednoduchá na používanie a veľmi intuitívna. Podpora zákazníkov bola rýchla a efektívna. Na druhej strane, chýbajú niektoré funkcie v porovnaní s konkurenciou.\n",
      "\n",
      "[[ ## completed ## ]]\u001b[0m\n",
      "\n",
      "\n",
      "\n",
      "\n",
      "\n",
      "\u001b[34m[2025-05-26T08:52:54.870845]\u001b[0m\n",
      "\n",
      "\u001b[31mSystem message:\u001b[0m\n",
      "\n",
      "Your input fields are:\n",
      "1. `reviews_summary` (str): Summarized user reviews.\n",
      "2. `language` (str): The language code for the output summary (cs = czech or sk = slovak).\n",
      "Your output fields are:\n",
      "1. `summary` (str): A persuasive summary of the reviews in the specified language.\n",
      "All interactions will be structured in the following way, with the appropriate values filled in.\n",
      "\n",
      "[[ ## reviews_summary ## ]]\n",
      "{reviews_summary}\n",
      "\n",
      "[[ ## language ## ]]\n",
      "{language}\n",
      "\n",
      "[[ ## summary ## ]]\n",
      "{summary}\n",
      "\n",
      "[[ ## completed ## ]]\n",
      "In adhering to this structure, your objective is: \n",
      "        Style the provided summary to optimize user engagement.\n",
      "        # Role\n",
      "        You are an expert in copy writing - specifically - writing engaging user review summaries.\n",
      "        \n",
      "        # Instructions\n",
      "        - Make the provided information in the user summaries engaging and informative.\n",
      "        - Provide the summary in the specified language.\n",
      "\n",
      "\n",
      "\u001b[31mUser message:\u001b[0m\n",
      "\n",
      "[[ ## reviews_summary ## ]]\n",
      "Aplikácia je jednoduchá na používanie a veľmi intuitívna. Podpora zákazníkov bola rýchla a efektívna. Na druhej strane, chýbajú niektoré funkcie v porovnaní s konkurenciou.\n",
      "\n",
      "[[ ## language ## ]]\n",
      "sk\n",
      "\n",
      "Respond with the corresponding output fields, starting with the field `[[ ## summary ## ]]`, and then ending with the marker for `[[ ## completed ## ]]`.\n",
      "\n",
      "\n",
      "\u001b[31mResponse:\u001b[0m\n",
      "\n",
      "\u001b[32m[[ ## summary ## ]]\n",
      "Objavte jednoduchú a intuitívnu aplikáciu, ktorá vám uľahčí každodenné úlohy. Rýchla a efektívna podpora zákazníkov vám zabezpečí pokoj na duši. Hoci niektoré funkcie chýbajú v porovnaní s konkurenciou, jej jednoduché ovládanie a spoľahlivosť ju robia skvelou voľbou pre tých, ktorí hľadajú efektívne riešenie s ľahkým používaním.\n",
      "\n",
      "[[ ## completed ## ]]\u001b[0m\n",
      "\n",
      "\n",
      "\n",
      "\n",
      "\n"
     ]
    }
   ],
   "source": [
    "dspy.inspect_history(n=2)"
   ]
  },
  {
   "cell_type": "code",
   "execution_count": 26,
   "metadata": {},
   "outputs": [],
   "source": [
    "# Find the latest version number\n",
    "import glob\n",
    "import re\n",
    "\n",
    "\n",
    "# 7. Save and Load the Optimized Program\n",
    "# Ensure the output directory exists\n",
    "output_dir = os.path.abspath('experiments/optimized_prompts')\n",
    "os.makedirs(output_dir, exist_ok=True)\n",
    "\n",
    "# Get all existing versioned files\n",
    "existing_files = glob.glob(os.path.join(output_dir, \"v*-optimized_summarizer.json\"))\n",
    "version_numbers = []\n",
    "\n",
    "for file in existing_files:\n",
    "    match = re.search(r'v(\\d+)', file)\n",
    "    if match:\n",
    "        version_numbers.append(int(match.group(1)))\n",
    "\n",
    "# Determine next version number\n",
    "next_version = max(version_numbers) + 1 if version_numbers else 1\n",
    "\n",
    "# Create new filename with incremented version\n",
    "output_path = os.path.join(output_dir, f\"v{next_version}-optimized_summarizer.json\")\n",
    "\n",
    "optimized_summarizer.save(output_path)\n",
    "\n",
    "loaded_summarizer = ReviewSummarizer()\n",
    "loaded_summarizer.load(path=output_path)"
   ]
  },
  {
   "cell_type": "code",
   "execution_count": null,
   "metadata": {},
   "outputs": [],
   "source": []
  }
 ],
 "metadata": {
  "kernelspec": {
   "display_name": ".venv",
   "language": "python",
   "name": "python3"
  },
  "language_info": {
   "codemirror_mode": {
    "name": "ipython",
    "version": 3
   },
   "file_extension": ".py",
   "mimetype": "text/x-python",
   "name": "python",
   "nbconvert_exporter": "python",
   "pygments_lexer": "ipython3",
   "version": "3.11.9"
  }
 },
 "nbformat": 4,
 "nbformat_minor": 2
}
