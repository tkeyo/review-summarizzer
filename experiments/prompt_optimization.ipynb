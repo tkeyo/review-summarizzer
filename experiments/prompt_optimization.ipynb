{
 "cells": [
  {
   "cell_type": "markdown",
   "metadata": {
    "vscode": {
     "languageId": "plaintext"
    }
   },
   "source": [
    "# Review Summarization Prompt Optimization with DSPy (SIMBA/MIPROv2)\n",
    "\n",
    "This script demonstrates how to optimize prompts in a DSPy program for summarizing user reviews.\n",
    "\n",
    "## References:\n",
    "- https://dspy.ai/learn/optimization/optimizers/#__tabbed_1_3\n",
    "- https://dspy.ai/tutorials/classification_finetuning/\n",
    "- https://dspy.ai/tutorials/math/"
   ]
  },
  {
   "cell_type": "code",
   "execution_count": 1,
   "metadata": {},
   "outputs": [],
   "source": [
    "# 1. Setup\n",
    "# Import required libraries and configure the language model.\n",
    "import dspy\n",
    "from typing import List, Dict\n",
    "from app.llm.review_summarizer import SummarizeSignature, ReviewSummarizer\n",
    "from app.llm.language import SupportedLanguage\n",
    "import os\n",
    "\n",
    "# Configure the language model (replace with your preferred model)\n",
    "# dspy.configure(lm=dspy.LM('gpt-4.1-nano'))"
   ]
  },
  {
   "cell_type": "code",
   "execution_count": 2,
   "metadata": {},
   "outputs": [],
   "source": [
    "# 2. Prepare Training Data\n",
    "trainset = [\n",
    "    # Hotel reviews in Czech\n",
    "    dspy.Example(\n",
    "        reviews=[\n",
    "            \"Room was clean and spacious.\",\n",
    "            \"Excellent location, but noisy at night.\",\n",
    "            \"Staff was helpful and check-in was quick.\"\n",
    "        ],\n",
    "        language=\"cs\",  # Simple string\n",
    "        reference=\"Uživatelé oceňují čistotu hotelu. Přilehlé ulice jsou hlučné.\"\n",
    "    ).with_inputs(\"reviews\", \"language\"),\n",
    "    \n",
    "    # Hotel reviews in Slovak\n",
    "    dspy.Example(\n",
    "        reviews=[\n",
    "            \"Room was clean and spacious.\",\n",
    "            \"Excellent location, but noisy at night.\",\n",
    "            \"Staff was helpful and check-in was quick.\"\n",
    "        ],\n",
    "        language=\"sk\",  # Simple string\n",
    "        reference=\"Používatelia oceňujú čistotu hotela. Priľahlé ulice sú hlučné.\"\n",
    "    ).with_inputs(\"reviews\", \"language\"),\n",
    "    \n",
    "    # # Product reviews in Czech\n",
    "    # dspy.Example(\n",
    "    #     reviews=[\n",
    "    #         \"Battery life is impressive.\",\n",
    "    #         \"Screen quality is not as good as expected.\",\n",
    "    #         \"Affordable price for the features offered.\"\n",
    "    #     ],\n",
    "    #     language=\"cs\",  # Simple string\n",
    "    #     reference=\"Uživatelé oceňují dlouhou výdrž baterie. Kvalita obrazovky by mohla být lepší.\"\n",
    "    # ).with_inputs(\"reviews\", \"language\"),\n",
    "    \n",
    "    # Product reviews in Slovak\n",
    "    dspy.Example(\n",
    "        reviews=[\n",
    "            \"Battery life is impressive.\",\n",
    "            \"Screen quality is not as good as expected.\",\n",
    "            \"Affordable price for the features offered.\"\n",
    "        ],\n",
    "        language=\"sk\",  # Simple string\n",
    "        reference=\"Používatelia oceňujú dlhú výdrž batérie. Kvalita obrazovky by mohla byť lepšia.\"\n",
    "    ).with_inputs(\"reviews\", \"language\")\n",
    "]"
   ]
  },
  {
   "cell_type": "code",
   "execution_count": 3,
   "metadata": {},
   "outputs": [],
   "source": [
    "from typing import Literal\n",
    "\n",
    "# 4. Define LLM as Judge Metric\n",
    "class JudgeSignature(dspy.Signature):\n",
    "    \"\"\"Judge if the summary is a good, faithful, and persuasive summary of the reviews in the specified language.\"\"\"\n",
    "    reviews = dspy.InputField()\n",
    "    language = dspy.InputField(desc=\"Language code (cs = czech or sk = slovak)\")\n",
    "    reference = dspy.InputField()\n",
    "    prediction = dspy.InputField()\n",
    "    score: Literal[0,1] = dspy.OutputField(\n",
    "        desc=\"1 if the prediction is a good, faithful, and persuasive summary of the reviews in the specified language, 0 otherwise.\"\n",
    "    )\n",
    "\n",
    "llm_judge = dspy.ChainOfThought(JudgeSignature)\n",
    "\n",
    "\n",
    "def llm_judge_metric(example, prediction, trace=None):\n",
    "    \"\"\"Judge if the generated summary matches the reference in the specified language.\"\"\"\n",
    "    result = llm_judge(\n",
    "        reviews=\"\\n\".join(example.reviews),\n",
    "        language=example.language,  # Just pass the string directly\n",
    "        reference=example.reference,\n",
    "        prediction=prediction.summary\n",
    "    )\n",
    "    return float(result.score)"
   ]
  },
  {
   "cell_type": "code",
   "execution_count": 4,
   "metadata": {},
   "outputs": [
    {
     "name": "stderr",
     "output_type": "stream",
     "text": [
      "2025/05/25 19:04:08 INFO dspy.teleprompt.mipro_optimizer_v2: \n",
      "RUNNING WITH THE FOLLOWING LIGHT AUTO RUN SETTINGS:\n",
      "num_trials: 10\n",
      "minibatch: False\n",
      "num_fewshot_candidates: 6\n",
      "num_instruct_candidates: 3\n",
      "valset size: 2\n",
      "\n",
      "2025/05/25 19:04:08 INFO dspy.teleprompt.mipro_optimizer_v2: \n",
      "==> STEP 1: BOOTSTRAP FEWSHOT EXAMPLES <==\n",
      "2025/05/25 19:04:08 INFO dspy.teleprompt.mipro_optimizer_v2: These will be used as few-shot example candidates for our program and for creating instructions.\n",
      "\n",
      "2025/05/25 19:04:08 INFO dspy.teleprompt.mipro_optimizer_v2: Bootstrapping N=6 sets of demonstrations...\n"
     ]
    },
    {
     "name": "stdout",
     "output_type": "stream",
     "text": [
      "Bootstrapping set 1/6\n",
      "Bootstrapping set 2/6\n",
      "Bootstrapping set 3/6\n"
     ]
    },
    {
     "name": "stderr",
     "output_type": "stream",
     "text": [
      "  0%|          | 0/1 [00:00<?, ?it/s]2025/05/25 19:04:12 WARNING dspy.adapters.json_adapter: Failed to use structured output format, falling back to JSON mode.\n",
      "100%|██████████| 1/1 [00:06<00:00,  6.44s/it]\n"
     ]
    },
    {
     "name": "stdout",
     "output_type": "stream",
     "text": [
      "Bootstrapped 1 full traces after 0 examples for up to 1 rounds, amounting to 1 attempts.\n",
      "Bootstrapping set 4/6\n"
     ]
    },
    {
     "name": "stderr",
     "output_type": "stream",
     "text": [
      "  0%|          | 0/1 [00:00<?, ?it/s]2025/05/25 19:04:14 WARNING dspy.adapters.json_adapter: Failed to use structured output format, falling back to JSON mode.\n",
      "100%|██████████| 1/1 [00:00<00:00, 429.57it/s]\n"
     ]
    },
    {
     "name": "stdout",
     "output_type": "stream",
     "text": [
      "Bootstrapped 1 full traces after 0 examples for up to 1 rounds, amounting to 1 attempts.\n",
      "Bootstrapping set 5/6\n"
     ]
    },
    {
     "name": "stderr",
     "output_type": "stream",
     "text": [
      "  0%|          | 0/1 [00:00<?, ?it/s]2025/05/25 19:04:14 WARNING dspy.adapters.json_adapter: Failed to use structured output format, falling back to JSON mode.\n",
      "100%|██████████| 1/1 [00:00<00:00, 495.02it/s]\n"
     ]
    },
    {
     "name": "stdout",
     "output_type": "stream",
     "text": [
      "Bootstrapped 1 full traces after 0 examples for up to 1 rounds, amounting to 1 attempts.\n",
      "Bootstrapping set 6/6\n"
     ]
    },
    {
     "name": "stderr",
     "output_type": "stream",
     "text": [
      "  0%|          | 0/1 [00:00<?, ?it/s]2025/05/25 19:04:14 WARNING dspy.adapters.json_adapter: Failed to use structured output format, falling back to JSON mode.\n",
      "100%|██████████| 1/1 [00:00<00:00, 545.00it/s]\n",
      "2025/05/25 19:04:14 INFO dspy.teleprompt.mipro_optimizer_v2: \n",
      "==> STEP 2: PROPOSE INSTRUCTION CANDIDATES <==\n",
      "2025/05/25 19:04:14 INFO dspy.teleprompt.mipro_optimizer_v2: We will use the few-shot examples from the previous step, a generated dataset summary, a summary of the program code, and a randomly selected prompting tip to propose instructions.\n",
      "2025/05/25 19:04:14 INFO dspy.teleprompt.mipro_optimizer_v2: \n",
      "Proposing N=3 instructions...\n",
      "\n"
     ]
    },
    {
     "name": "stdout",
     "output_type": "stream",
     "text": [
      "Bootstrapped 1 full traces after 0 examples for up to 1 rounds, amounting to 1 attempts.\n",
      "class SummarizeSignature(dspy.Signature):\n",
      "    \"\"\"Summarize the provided user reviews to maximize purchase intent.\n",
      "    # Role\n",
      "    You are an expert review summarizer. You know what makes people tick and buy when they read a review summary.\n",
      "    # Instructions\n",
      "    - Summarize the provided reviews\n",
      "    - Adjust the format so that people are more likely to purchase\n",
      "    - Provide the summary in the specified language\n",
      "    \"\"\"\n",
      "    reviews = dspy.InputField(desc=\"All user reviews as a markdown list.\")\n",
      "    language = dspy.InputField(desc=\"The language code for the output summary (cs = czech or sk = slovak).\")\n",
      "    summary = dspy.OutputField(desc=\"A persuasive summary of the reviews in the specified language.\")\n",
      "\n"
     ]
    },
    {
     "name": "stderr",
     "output_type": "stream",
     "text": [
      "2025/05/25 19:04:30 INFO dspy.teleprompt.mipro_optimizer_v2: Proposed Instructions for Predictor 0:\n",
      "\n",
      "2025/05/25 19:04:30 INFO dspy.teleprompt.mipro_optimizer_v2: 0: Summarize the provided user reviews to maximize purchase intent.\n",
      "# Role\n",
      "You are an expert review summarizer. You know what makes people tick and buy when they read a review summary.\n",
      "# Instructions\n",
      "- Summarize the provided reviews\n",
      "- Adjust the format so that people are more likely to purchase\n",
      "- Provide the summary in the specified language\n",
      "\n",
      "2025/05/25 19:04:30 INFO dspy.teleprompt.mipro_optimizer_v2: 1: You are an expert in crafting persuasive summaries of user reviews, especially in high-stakes scenarios where convincing potential customers is critical. Your task is to analyze the provided list of reviews and generate a concise, compelling summary that emphasizes the positive aspects and addresses potential concerns to maximize the likelihood of purchase. The summary must be tailored to the specified language, capturing the key points that will influence decision-making in a competitive environment. Think of yourself as a marketing specialist tasked with turning reviews into a powerful sales tool, ensuring the summary resonates emotionally and logically with prospective buyers who are on the verge of making a decision.\n",
      "\n",
      "2025/05/25 19:04:30 INFO dspy.teleprompt.mipro_optimizer_v2: 2: You are an expert review summarizer tasked with creating a persuasive and compelling summary of user reviews that will significantly influence potential customers to make a purchase. Your summary must highlight the key positive aspects of the product or service, address any common concerns, and be tailored to the specified language to maximize its impact. Imagine this summary will be used in a critical marketing campaign where a single sentence or paragraph could determine whether a customer chooses to buy or not. Carefully analyze the reviews, emphasize the benefits, and craft a concise, engaging, and convincing summary that persuades hesitant buyers to take action.\n",
      "\n",
      "2025/05/25 19:04:30 INFO dspy.teleprompt.mipro_optimizer_v2: \n",
      "\n",
      "2025/05/25 19:04:30 INFO dspy.teleprompt.mipro_optimizer_v2: ==> STEP 3: FINDING OPTIMAL PROMPT PARAMETERS <==\n",
      "2025/05/25 19:04:30 INFO dspy.teleprompt.mipro_optimizer_v2: We will evaluate the program over a series of trials with different combinations of instructions and few-shot examples to find the optimal combination using Bayesian Optimization.\n",
      "\n",
      "2025/05/25 19:04:30 INFO dspy.teleprompt.mipro_optimizer_v2: == Trial 1 / 10 - Full Evaluation of Default Program ==\n"
     ]
    },
    {
     "name": "stdout",
     "output_type": "stream",
     "text": [
      "  0%|          | 0/2 [00:00<?, ?it/s]"
     ]
    },
    {
     "name": "stderr",
     "output_type": "stream",
     "text": [
      "2025/05/25 19:04:33 WARNING dspy.adapters.json_adapter: Failed to use structured output format, falling back to JSON mode.\n",
      "2025/05/25 19:04:33 WARNING dspy.adapters.json_adapter: Failed to use structured output format, falling back to JSON mode.\n"
     ]
    },
    {
     "name": "stdout",
     "output_type": "stream",
     "text": [
      "Average Metric: 2.00 / 2 (100.0%): 100%|██████████| 2/2 [00:04<00:00,  2.48s/it]"
     ]
    },
    {
     "name": "stderr",
     "output_type": "stream",
     "text": [
      "2025/05/25 19:04:35 INFO dspy.evaluate.evaluate: Average Metric: 2.0 / 2 (100.0%)\n",
      "2025/05/25 19:04:35 INFO dspy.teleprompt.mipro_optimizer_v2: Default program score: 100.0\n",
      "\n",
      "/Users/tk/projects/review-summarizzer/.venv/lib/python3.11/site-packages/optuna/_experimental.py:31: ExperimentalWarning: Argument ``multivariate`` is an experimental feature. The interface can change in the future.\n",
      "  warnings.warn(\n",
      "2025/05/25 19:04:35 INFO dspy.teleprompt.mipro_optimizer_v2: ===== Trial 2 / 10 =====\n"
     ]
    },
    {
     "name": "stdout",
     "output_type": "stream",
     "text": [
      "\n",
      "  0%|          | 0/2 [00:00<?, ?it/s]"
     ]
    },
    {
     "name": "stderr",
     "output_type": "stream",
     "text": [
      "2025/05/25 19:04:38 WARNING dspy.adapters.json_adapter: Failed to use structured output format, falling back to JSON mode.\n",
      "2025/05/25 19:04:38 WARNING dspy.adapters.json_adapter: Failed to use structured output format, falling back to JSON mode.\n"
     ]
    },
    {
     "name": "stdout",
     "output_type": "stream",
     "text": [
      "Average Metric: 2.00 / 2 (100.0%): 100%|██████████| 2/2 [00:04<00:00,  2.16s/it]"
     ]
    },
    {
     "name": "stderr",
     "output_type": "stream",
     "text": [
      "2025/05/25 19:04:40 INFO dspy.evaluate.evaluate: Average Metric: 2.0 / 2 (100.0%)\n",
      "2025/05/25 19:04:40 INFO dspy.teleprompt.mipro_optimizer_v2: Score: 100.0 with parameters ['Predictor 0: Instruction 1', 'Predictor 0: Few-Shot Set 3'].\n",
      "2025/05/25 19:04:40 INFO dspy.teleprompt.mipro_optimizer_v2: Scores so far: [100.0, 100.0]\n",
      "2025/05/25 19:04:40 INFO dspy.teleprompt.mipro_optimizer_v2: Best score so far: 100.0\n",
      "2025/05/25 19:04:40 INFO dspy.teleprompt.mipro_optimizer_v2: ========================\n",
      "\n",
      "\n",
      "2025/05/25 19:04:40 INFO dspy.teleprompt.mipro_optimizer_v2: ===== Trial 3 / 10 =====\n"
     ]
    },
    {
     "name": "stdout",
     "output_type": "stream",
     "text": [
      "\n",
      "  0%|          | 0/2 [00:00<?, ?it/s]"
     ]
    },
    {
     "name": "stderr",
     "output_type": "stream",
     "text": [
      "2025/05/25 19:04:43 WARNING dspy.adapters.json_adapter: Failed to use structured output format, falling back to JSON mode.\n"
     ]
    },
    {
     "name": "stdout",
     "output_type": "stream",
     "text": [
      "Average Metric: 1.00 / 1 (100.0%):  50%|█████     | 1/2 [00:04<00:04,  4.46s/it]"
     ]
    },
    {
     "name": "stderr",
     "output_type": "stream",
     "text": [
      "2025/05/25 19:04:52 WARNING dspy.adapters.json_adapter: Failed to use structured output format, falling back to JSON mode.\n"
     ]
    },
    {
     "name": "stdout",
     "output_type": "stream",
     "text": [
      "Average Metric: 2.00 / 2 (100.0%): 100%|██████████| 2/2 [00:13<00:00,  6.68s/it]"
     ]
    },
    {
     "name": "stderr",
     "output_type": "stream",
     "text": [
      "2025/05/25 19:04:53 INFO dspy.evaluate.evaluate: Average Metric: 2.0 / 2 (100.0%)\n",
      "2025/05/25 19:04:53 INFO dspy.teleprompt.mipro_optimizer_v2: Score: 100.0 with parameters ['Predictor 0: Instruction 2', 'Predictor 0: Few-Shot Set 0'].\n",
      "2025/05/25 19:04:53 INFO dspy.teleprompt.mipro_optimizer_v2: Scores so far: [100.0, 100.0, 100.0]\n",
      "2025/05/25 19:04:53 INFO dspy.teleprompt.mipro_optimizer_v2: Best score so far: 100.0\n",
      "2025/05/25 19:04:53 INFO dspy.teleprompt.mipro_optimizer_v2: ========================\n",
      "\n",
      "\n",
      "2025/05/25 19:04:53 INFO dspy.teleprompt.mipro_optimizer_v2: ===== Trial 4 / 10 =====\n",
      "2025/05/25 19:04:53 WARNING dspy.adapters.json_adapter: Failed to use structured output format, falling back to JSON mode.\n",
      "2025/05/25 19:04:53 WARNING dspy.adapters.json_adapter: Failed to use structured output format, falling back to JSON mode.\n"
     ]
    },
    {
     "name": "stdout",
     "output_type": "stream",
     "text": [
      "\n",
      "Average Metric: 2.00 / 2 (100.0%): 100%|██████████| 2/2 [00:00<00:00, 1294.54it/s]"
     ]
    },
    {
     "name": "stderr",
     "output_type": "stream",
     "text": [
      "2025/05/25 19:04:53 INFO dspy.evaluate.evaluate: Average Metric: 2.0 / 2 (100.0%)\n",
      "2025/05/25 19:04:53 INFO dspy.teleprompt.mipro_optimizer_v2: Score: 100.0 with parameters ['Predictor 0: Instruction 1', 'Predictor 0: Few-Shot Set 5'].\n",
      "2025/05/25 19:04:53 INFO dspy.teleprompt.mipro_optimizer_v2: Scores so far: [100.0, 100.0, 100.0, 100.0]\n",
      "2025/05/25 19:04:53 INFO dspy.teleprompt.mipro_optimizer_v2: Best score so far: 100.0\n",
      "2025/05/25 19:04:53 INFO dspy.teleprompt.mipro_optimizer_v2: ========================\n",
      "\n",
      "\n",
      "2025/05/25 19:04:53 INFO dspy.teleprompt.mipro_optimizer_v2: ===== Trial 5 / 10 =====\n"
     ]
    },
    {
     "name": "stdout",
     "output_type": "stream",
     "text": [
      "\n",
      "  0%|          | 0/2 [00:00<?, ?it/s]"
     ]
    },
    {
     "name": "stderr",
     "output_type": "stream",
     "text": [
      "2025/05/25 19:04:55 WARNING dspy.adapters.json_adapter: Failed to use structured output format, falling back to JSON mode.\n"
     ]
    },
    {
     "name": "stdout",
     "output_type": "stream",
     "text": [
      "Average Metric: 1.00 / 1 (100.0%):  50%|█████     | 1/2 [00:02<00:02,  2.06s/it]"
     ]
    },
    {
     "name": "stderr",
     "output_type": "stream",
     "text": [
      "2025/05/25 19:04:57 WARNING dspy.adapters.json_adapter: Failed to use structured output format, falling back to JSON mode.\n"
     ]
    },
    {
     "name": "stdout",
     "output_type": "stream",
     "text": [
      "Average Metric: 2.00 / 2 (100.0%): 100%|██████████| 2/2 [00:05<00:00,  2.65s/it]"
     ]
    },
    {
     "name": "stderr",
     "output_type": "stream",
     "text": [
      "2025/05/25 19:04:58 INFO dspy.evaluate.evaluate: Average Metric: 2.0 / 2 (100.0%)\n",
      "2025/05/25 19:04:58 INFO dspy.teleprompt.mipro_optimizer_v2: Score: 100.0 with parameters ['Predictor 0: Instruction 2', 'Predictor 0: Few-Shot Set 2'].\n",
      "2025/05/25 19:04:58 INFO dspy.teleprompt.mipro_optimizer_v2: Scores so far: [100.0, 100.0, 100.0, 100.0, 100.0]\n",
      "2025/05/25 19:04:58 INFO dspy.teleprompt.mipro_optimizer_v2: Best score so far: 100.0\n",
      "2025/05/25 19:04:58 INFO dspy.teleprompt.mipro_optimizer_v2: ========================\n",
      "\n",
      "\n",
      "2025/05/25 19:04:58 INFO dspy.teleprompt.mipro_optimizer_v2: ===== Trial 6 / 10 =====\n"
     ]
    },
    {
     "name": "stdout",
     "output_type": "stream",
     "text": [
      "\n",
      "  0%|          | 0/2 [00:00<?, ?it/s]"
     ]
    },
    {
     "name": "stderr",
     "output_type": "stream",
     "text": [
      "2025/05/25 19:05:01 WARNING dspy.adapters.json_adapter: Failed to use structured output format, falling back to JSON mode.\n",
      "2025/05/25 19:05:01 WARNING dspy.adapters.json_adapter: Failed to use structured output format, falling back to JSON mode.\n"
     ]
    },
    {
     "name": "stdout",
     "output_type": "stream",
     "text": [
      "Average Metric: 2.00 / 2 (100.0%): 100%|██████████| 2/2 [00:04<00:00,  2.08s/it]"
     ]
    },
    {
     "name": "stderr",
     "output_type": "stream",
     "text": [
      "2025/05/25 19:05:02 INFO dspy.evaluate.evaluate: Average Metric: 2.0 / 2 (100.0%)\n",
      "2025/05/25 19:05:02 INFO dspy.teleprompt.mipro_optimizer_v2: Score: 100.0 with parameters ['Predictor 0: Instruction 0', 'Predictor 0: Few-Shot Set 5'].\n",
      "2025/05/25 19:05:02 INFO dspy.teleprompt.mipro_optimizer_v2: Scores so far: [100.0, 100.0, 100.0, 100.0, 100.0, 100.0]\n",
      "2025/05/25 19:05:02 INFO dspy.teleprompt.mipro_optimizer_v2: Best score so far: 100.0\n",
      "2025/05/25 19:05:02 INFO dspy.teleprompt.mipro_optimizer_v2: ========================\n",
      "\n",
      "\n",
      "2025/05/25 19:05:02 INFO dspy.teleprompt.mipro_optimizer_v2: ===== Trial 7 / 10 =====\n",
      "2025/05/25 19:05:02 WARNING dspy.adapters.json_adapter: Failed to use structured output format, falling back to JSON mode.\n",
      "2025/05/25 19:05:02 WARNING dspy.adapters.json_adapter: Failed to use structured output format, falling back to JSON mode.\n"
     ]
    },
    {
     "name": "stdout",
     "output_type": "stream",
     "text": [
      "\n",
      "Average Metric: 2.00 / 2 (100.0%): 100%|██████████| 2/2 [00:00<00:00, 2732.45it/s]"
     ]
    },
    {
     "name": "stderr",
     "output_type": "stream",
     "text": [
      "2025/05/25 19:05:02 INFO dspy.evaluate.evaluate: Average Metric: 2.0 / 2 (100.0%)\n",
      "2025/05/25 19:05:02 INFO dspy.teleprompt.mipro_optimizer_v2: Score: 100.0 with parameters ['Predictor 0: Instruction 2', 'Predictor 0: Few-Shot Set 0'].\n",
      "2025/05/25 19:05:02 INFO dspy.teleprompt.mipro_optimizer_v2: Scores so far: [100.0, 100.0, 100.0, 100.0, 100.0, 100.0, 100.0]\n",
      "2025/05/25 19:05:02 INFO dspy.teleprompt.mipro_optimizer_v2: Best score so far: 100.0\n",
      "2025/05/25 19:05:02 INFO dspy.teleprompt.mipro_optimizer_v2: ========================\n",
      "\n",
      "\n",
      "2025/05/25 19:05:02 INFO dspy.teleprompt.mipro_optimizer_v2: ===== Trial 8 / 10 =====\n",
      "2025/05/25 19:05:02 WARNING dspy.adapters.json_adapter: Failed to use structured output format, falling back to JSON mode.\n"
     ]
    },
    {
     "name": "stdout",
     "output_type": "stream",
     "text": [
      "\n"
     ]
    },
    {
     "name": "stderr",
     "output_type": "stream",
     "text": [
      "2025/05/25 19:05:02 WARNING dspy.adapters.json_adapter: Failed to use structured output format, falling back to JSON mode.\n"
     ]
    },
    {
     "name": "stdout",
     "output_type": "stream",
     "text": [
      "Average Metric: 2.00 / 2 (100.0%): 100%|██████████| 2/2 [00:00<00:00, 3049.29it/s]"
     ]
    },
    {
     "name": "stderr",
     "output_type": "stream",
     "text": [
      "2025/05/25 19:05:02 INFO dspy.evaluate.evaluate: Average Metric: 2.0 / 2 (100.0%)\n",
      "2025/05/25 19:05:02 INFO dspy.teleprompt.mipro_optimizer_v2: Score: 100.0 with parameters ['Predictor 0: Instruction 2', 'Predictor 0: Few-Shot Set 5'].\n",
      "2025/05/25 19:05:02 INFO dspy.teleprompt.mipro_optimizer_v2: Scores so far: [100.0, 100.0, 100.0, 100.0, 100.0, 100.0, 100.0, 100.0]\n",
      "2025/05/25 19:05:02 INFO dspy.teleprompt.mipro_optimizer_v2: Best score so far: 100.0\n",
      "2025/05/25 19:05:02 INFO dspy.teleprompt.mipro_optimizer_v2: ========================\n",
      "\n",
      "\n",
      "2025/05/25 19:05:02 INFO dspy.teleprompt.mipro_optimizer_v2: ===== Trial 9 / 10 =====\n",
      "2025/05/25 19:05:02 WARNING dspy.adapters.json_adapter: Failed to use structured output format, falling back to JSON mode.\n",
      "2025/05/25 19:05:02 WARNING dspy.adapters.json_adapter: Failed to use structured output format, falling back to JSON mode.\n"
     ]
    },
    {
     "name": "stdout",
     "output_type": "stream",
     "text": [
      "\n",
      "Average Metric: 2.00 / 2 (100.0%): 100%|██████████| 2/2 [00:00<00:00, 3788.89it/s]"
     ]
    },
    {
     "name": "stderr",
     "output_type": "stream",
     "text": [
      "2025/05/25 19:05:02 INFO dspy.evaluate.evaluate: Average Metric: 2.0 / 2 (100.0%)\n",
      "2025/05/25 19:05:02 INFO dspy.teleprompt.mipro_optimizer_v2: Score: 100.0 with parameters ['Predictor 0: Instruction 1', 'Predictor 0: Few-Shot Set 4'].\n",
      "2025/05/25 19:05:02 INFO dspy.teleprompt.mipro_optimizer_v2: Scores so far: [100.0, 100.0, 100.0, 100.0, 100.0, 100.0, 100.0, 100.0, 100.0]\n",
      "2025/05/25 19:05:02 INFO dspy.teleprompt.mipro_optimizer_v2: Best score so far: 100.0\n",
      "2025/05/25 19:05:02 INFO dspy.teleprompt.mipro_optimizer_v2: ========================\n",
      "\n",
      "\n",
      "2025/05/25 19:05:02 INFO dspy.teleprompt.mipro_optimizer_v2: ===== Trial 10 / 10 =====\n",
      "2025/05/25 19:05:02 WARNING dspy.adapters.json_adapter: Failed to use structured output format, falling back to JSON mode.\n",
      "2025/05/25 19:05:02 WARNING dspy.adapters.json_adapter: Failed to use structured output format, falling back to JSON mode.\n"
     ]
    },
    {
     "name": "stdout",
     "output_type": "stream",
     "text": [
      "\n",
      "Average Metric: 2.00 / 2 (100.0%): 100%|██████████| 2/2 [00:00<00:00, 2209.85it/s]"
     ]
    },
    {
     "name": "stderr",
     "output_type": "stream",
     "text": [
      "2025/05/25 19:05:02 INFO dspy.evaluate.evaluate: Average Metric: 2.0 / 2 (100.0%)\n",
      "2025/05/25 19:05:02 INFO dspy.teleprompt.mipro_optimizer_v2: Score: 100.0 with parameters ['Predictor 0: Instruction 2', 'Predictor 0: Few-Shot Set 5'].\n",
      "2025/05/25 19:05:02 INFO dspy.teleprompt.mipro_optimizer_v2: Scores so far: [100.0, 100.0, 100.0, 100.0, 100.0, 100.0, 100.0, 100.0, 100.0, 100.0]\n",
      "2025/05/25 19:05:02 INFO dspy.teleprompt.mipro_optimizer_v2: Best score so far: 100.0\n",
      "2025/05/25 19:05:02 INFO dspy.teleprompt.mipro_optimizer_v2: =========================\n",
      "\n",
      "\n",
      "2025/05/25 19:05:02 INFO dspy.teleprompt.mipro_optimizer_v2: ===== Trial 11 / 10 =====\n",
      "2025/05/25 19:05:02 WARNING dspy.adapters.json_adapter: Failed to use structured output format, falling back to JSON mode.\n"
     ]
    },
    {
     "name": "stdout",
     "output_type": "stream",
     "text": [
      "\n"
     ]
    },
    {
     "name": "stderr",
     "output_type": "stream",
     "text": [
      "2025/05/25 19:05:02 WARNING dspy.adapters.json_adapter: Failed to use structured output format, falling back to JSON mode.\n"
     ]
    },
    {
     "name": "stdout",
     "output_type": "stream",
     "text": [
      "Average Metric: 2.00 / 2 (100.0%): 100%|██████████| 2/2 [00:00<00:00, 3283.21it/s]"
     ]
    },
    {
     "name": "stderr",
     "output_type": "stream",
     "text": [
      "2025/05/25 19:05:02 INFO dspy.evaluate.evaluate: Average Metric: 2.0 / 2 (100.0%)\n",
      "2025/05/25 19:05:02 INFO dspy.teleprompt.mipro_optimizer_v2: Score: 100.0 with parameters ['Predictor 0: Instruction 0', 'Predictor 0: Few-Shot Set 0'].\n",
      "2025/05/25 19:05:02 INFO dspy.teleprompt.mipro_optimizer_v2: Scores so far: [100.0, 100.0, 100.0, 100.0, 100.0, 100.0, 100.0, 100.0, 100.0, 100.0, 100.0]\n",
      "2025/05/25 19:05:02 INFO dspy.teleprompt.mipro_optimizer_v2: Best score so far: 100.0\n",
      "2025/05/25 19:05:02 INFO dspy.teleprompt.mipro_optimizer_v2: =========================\n",
      "\n",
      "\n",
      "2025/05/25 19:05:02 INFO dspy.teleprompt.mipro_optimizer_v2: Returning best identified program with score 100.0!\n"
     ]
    },
    {
     "name": "stdout",
     "output_type": "stream",
     "text": [
      "\n"
     ]
    }
   ],
   "source": [
    "# 5. Run the Optimizer (SIMBA or MIPROv2)\n",
    "optimizer = dspy.MIPROv2(\n",
    "    metric=llm_judge_metric,\n",
    "    num_threads=4,\n",
    "    max_bootstrapped_demos=2\n",
    ")\n",
    "\n",
    "# Compile (optimize) the program\n",
    "optimized_summarizer = optimizer.compile(\n",
    "    ReviewSummarizer(),\n",
    "    trainset=trainset,\n",
    "    requires_permission_to_run=False\n",
    ")"
   ]
  },
  {
   "cell_type": "code",
   "execution_count": 5,
   "metadata": {},
   "outputs": [
    {
     "name": "stdout",
     "output_type": "stream",
     "text": [
      "Czech Summary: Tato aplikace je jednoduchá na používání a velmi intuitivní, což zajišťuje pohodlné ovládání. Podpora zákazníků je rychlá a spolehlivá, což zvyšuje vaši jistotu při používání. Přestože některé funkce chybí ve srovnání s konkurencí, celkově nabízí skvělý zážitek a je skvělou volbou pro ty, kteří hledají jednoduchost a rychlou podporu.\n",
      "\n",
      "Slovak Summary: Táto aplikácia je jednoduchá na používanie a veľmi intuitívna, čo z nej robí ideálnu voľbu pre každého. Rýchla a efektívna zákaznícka podpora zabezpečuje, že vaše otázky budú vždy rýchlo vyriešené. Hoci niektoré funkcie chýbajú v porovnaní s konkurenciou, jej jednoduché ovládanie a spoľahlivosť ju robia skvelou voľbou pre tých, ktorí hľadajú efektívne riešenie s ľahkým ovládaním.\n"
     ]
    }
   ],
   "source": [
    "# 4. Test the Optimized Program\n",
    "test_reviews = [\n",
    "    \"The app is easy to use and very intuitive.\",\n",
    "    \"Customer support was quick to respond.\",\n",
    "    \"Some features are missing compared to competitors.\"\n",
    "]\n",
    "\n",
    "# Test Czech\n",
    "czech_result = optimized_summarizer(\n",
    "    reviews=\"\\n\".join(test_reviews),\n",
    "    language=SupportedLanguage.CZECH\n",
    ")\n",
    "print(\"Czech Summary:\", czech_result.summary)\n",
    "\n",
    "# Test Slovak\n",
    "slovak_result = optimized_summarizer(\n",
    "    reviews=\"\\n\".join(test_reviews),\n",
    "    language=SupportedLanguage.SLOVAK\n",
    ")\n",
    "print(\"\\nSlovak Summary:\", slovak_result.summary)"
   ]
  },
  {
   "cell_type": "code",
   "execution_count": 6,
   "metadata": {},
   "outputs": [
    {
     "name": "stdout",
     "output_type": "stream",
     "text": [
      "\n",
      "\n",
      "\n",
      "\n",
      "\u001b[34m[2025-05-25T19:05:09.286843]\u001b[0m\n",
      "\n",
      "\u001b[31mSystem message:\u001b[0m\n",
      "\n",
      "Your input fields are:\n",
      "1. `reviews` (str): All user reviews as a markdown list.\n",
      "2. `language` (str): The language code for the output summary (cs = czech or sk = slovak).\n",
      "Your output fields are:\n",
      "1. `summary` (str): A persuasive summary of the reviews in the specified language.\n",
      "All interactions will be structured in the following way, with the appropriate values filled in.\n",
      "\n",
      "[[ ## reviews ## ]]\n",
      "{reviews}\n",
      "\n",
      "[[ ## language ## ]]\n",
      "{language}\n",
      "\n",
      "[[ ## summary ## ]]\n",
      "{summary}\n",
      "\n",
      "[[ ## completed ## ]]\n",
      "In adhering to this structure, your objective is: \n",
      "        Summarize the provided user reviews to maximize purchase intent.\n",
      "        # Role\n",
      "        You are an expert review summarizer. You know what makes people tick and buy when they read a review summary.\n",
      "        # Instructions\n",
      "        - Summarize the provided reviews\n",
      "        - Adjust the format so that people are more likely to purchase\n",
      "        - Provide the summary in the specified language\n",
      "\n",
      "\n",
      "\u001b[31mUser message:\u001b[0m\n",
      "\n",
      "[[ ## reviews ## ]]\n",
      "The app is easy to use and very intuitive.\n",
      "Customer support was quick to respond.\n",
      "Some features are missing compared to competitors.\n",
      "\n",
      "[[ ## language ## ]]\n",
      "cs\n",
      "\n",
      "Respond with the corresponding output fields, starting with the field `[[ ## summary ## ]]`, and then ending with the marker for `[[ ## completed ## ]]`.\n",
      "\n",
      "\n",
      "\u001b[31mResponse:\u001b[0m\n",
      "\n",
      "\u001b[32m[[ ## summary ## ]]\n",
      "Tato aplikace je jednoduchá na používání a velmi intuitivní, což zajišťuje pohodlné ovládání. Podpora zákazníků je rychlá a spolehlivá, což zvyšuje vaši jistotu při používání. Přestože některé funkce chybí ve srovnání s konkurencí, celkově nabízí skvělý zážitek a je skvělou volbou pro ty, kteří hledají jednoduchost a rychlou podporu.\n",
      "\n",
      "[[ ## completed ## ]]\u001b[0m\n",
      "\n",
      "\n",
      "\n",
      "\n",
      "\n",
      "\u001b[34m[2025-05-25T19:05:11.056583]\u001b[0m\n",
      "\n",
      "\u001b[31mSystem message:\u001b[0m\n",
      "\n",
      "Your input fields are:\n",
      "1. `reviews` (str): All user reviews as a markdown list.\n",
      "2. `language` (str): The language code for the output summary (cs = czech or sk = slovak).\n",
      "Your output fields are:\n",
      "1. `summary` (str): A persuasive summary of the reviews in the specified language.\n",
      "All interactions will be structured in the following way, with the appropriate values filled in.\n",
      "\n",
      "[[ ## reviews ## ]]\n",
      "{reviews}\n",
      "\n",
      "[[ ## language ## ]]\n",
      "{language}\n",
      "\n",
      "[[ ## summary ## ]]\n",
      "{summary}\n",
      "\n",
      "[[ ## completed ## ]]\n",
      "In adhering to this structure, your objective is: \n",
      "        Summarize the provided user reviews to maximize purchase intent.\n",
      "        # Role\n",
      "        You are an expert review summarizer. You know what makes people tick and buy when they read a review summary.\n",
      "        # Instructions\n",
      "        - Summarize the provided reviews\n",
      "        - Adjust the format so that people are more likely to purchase\n",
      "        - Provide the summary in the specified language\n",
      "\n",
      "\n",
      "\u001b[31mUser message:\u001b[0m\n",
      "\n",
      "[[ ## reviews ## ]]\n",
      "The app is easy to use and very intuitive.\n",
      "Customer support was quick to respond.\n",
      "Some features are missing compared to competitors.\n",
      "\n",
      "[[ ## language ## ]]\n",
      "sk\n",
      "\n",
      "Respond with the corresponding output fields, starting with the field `[[ ## summary ## ]]`, and then ending with the marker for `[[ ## completed ## ]]`.\n",
      "\n",
      "\n",
      "\u001b[31mResponse:\u001b[0m\n",
      "\n",
      "\u001b[32m[[ ## summary ## ]]\n",
      "Táto aplikácia je jednoduchá na používanie a veľmi intuitívna, čo z nej robí ideálnu voľbu pre každého. Rýchla a efektívna zákaznícka podpora zabezpečuje, že vaše otázky budú vždy rýchlo vyriešené. Hoci niektoré funkcie chýbajú v porovnaní s konkurenciou, jej jednoduché ovládanie a spoľahlivosť ju robia skvelou voľbou pre tých, ktorí hľadajú efektívne riešenie s ľahkým ovládaním.\n",
      "\n",
      "[[ ## completed ## ]]\u001b[0m\n",
      "\n",
      "\n",
      "\n",
      "\n",
      "\n"
     ]
    }
   ],
   "source": [
    "dspy.inspect_history(n=2)"
   ]
  },
  {
   "cell_type": "code",
   "execution_count": 7,
   "metadata": {},
   "outputs": [],
   "source": [
    "# 7. Save and Load the Optimized Program\n",
    "# Ensure the output directory exists\n",
    "output_dir = os.path.abspath('../prompt')\n",
    "os.makedirs(output_dir, exist_ok=True)\n",
    "output_path = os.path.join(output_dir, \"optimized_summarizer.json\")\n",
    "\n",
    "optimized_summarizer.save(output_path)\n",
    "\n",
    "loaded_summarizer = ReviewSummarizer()\n",
    "loaded_summarizer.load(path=output_path) "
   ]
  },
  {
   "cell_type": "code",
   "execution_count": null,
   "metadata": {},
   "outputs": [],
   "source": []
  }
 ],
 "metadata": {
  "kernelspec": {
   "display_name": ".venv",
   "language": "python",
   "name": "python3"
  },
  "language_info": {
   "codemirror_mode": {
    "name": "ipython",
    "version": 3
   },
   "file_extension": ".py",
   "mimetype": "text/x-python",
   "name": "python",
   "nbconvert_exporter": "python",
   "pygments_lexer": "ipython3",
   "version": "3.11.9"
  }
 },
 "nbformat": 4,
 "nbformat_minor": 2
}
